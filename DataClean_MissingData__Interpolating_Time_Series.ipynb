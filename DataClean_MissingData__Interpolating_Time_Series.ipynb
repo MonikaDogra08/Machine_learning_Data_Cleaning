{
 "cells": [
  {
   "cell_type": "markdown",
   "metadata": {},
   "source": [
    "# Data Cleaning: Handling Missing values using Interpolation method:\n",
    "\n",
    "## Description: Code for data identifying and replacing missing data\n",
    "#### References:www.towardsdatascience.com ,\n",
    "#### link: https://towardsdatascience.com/how-to-interpolate-time-series-data-in-apache-spark-and-python-pandas-part-1-pandas-cff54d76a2ea , https://towardsdatascience.com/6-different-ways-to-compensate-for-missing-values-data-imputation-with-examples-6022d9ca0779 .\n",
    "### Author: Monika Dogra\n",
    "### Revision:1\n",
    "### Date: 19 Dec 2019"
   ]
  },
  {
   "cell_type": "markdown",
   "metadata": {},
   "source": [
    "## Interpolation :\n",
    "* The interpolation formula can be used to find the missing value. However, by drawing a straight line through two points on a curve, the value at other points on the curve can be approximated. In the formula for interpolation, x-sub1 and y-sub1 represent the first set of data points of the values observed.\n",
    "\n",
    "* In scipy.interpolate is a convenient method to create a function based on fixed data points, which can be evaluated anywhere within the domain defined by the given data using linear interpolation. An instance of this class is created by passing the 1-D vectors comprising the data. The instance of this class defines a __call__ method and can therefore by treated like a function which interpolates between known data values to obtain unknown values (it also has a docstring for help). Behavior at the boundary can be specified at instantiation time."
   ]
  },
  {
   "cell_type": "markdown",
   "metadata": {},
   "source": [
    "## Import Libraries :"
   ]
  },
  {
   "cell_type": "code",
   "execution_count": 1,
   "metadata": {},
   "outputs": [],
   "source": [
    "\n",
    "\n",
    "import pandas as pd\n",
    "import numpy as np\n",
    "import random\n",
    "import matplotlib.pyplot as plt\n",
    "import seaborn as sns\n",
    "%matplotlib inline\n",
    "\n"
   ]
  },
  {
   "cell_type": "markdown",
   "metadata": {},
   "source": [
    "First we generate a pandas data frame df0 with some test data. We create a data set containing two houses and use a $sin$ and a $cos$ function to generate some read data for a set of dates. To generate the missing values, we randomly drop half of the entries."
   ]
  },
  {
   "cell_type": "code",
   "execution_count": 2,
   "metadata": {},
   "outputs": [],
   "source": [
    "data = {'datetime': pd.date_range(start='1/15/2018', end='02/14/2018', freq='D')\\\n",
    "                .append(pd.date_range(start='1/15/2018', end='02/14/2018', freq='D')),\n",
    "        'house' : ['house1' for i in range(31)] + ['house2' for i in range(31)],\n",
    "        'readvalue':  [0.5 + 0.5*np.sin(2*np.pi/30*i) for i in range(31)]\\\n",
    "                    + [0.5 + 0.5*np.cos(2*np.pi/30*i) for i in range(31)]}\n",
    "df0 = pd.DataFrame(data, columns = ['datetime', 'house', 'readvalue'])\n",
    "\n",
    "# Randomly drop half the reads\n",
    "random.seed(42)\n",
    "df0 = df0.drop(random.sample(range(df0.shape[0]), k=int(df0.shape[0]/2)))"
   ]
  },
  {
   "cell_type": "markdown",
   "metadata": {},
   "source": [
    "This is how the data looks like. A $sin$ and a $cos$ with plenty of missing data points."
   ]
  },
  {
   "cell_type": "code",
   "execution_count": 3,
   "metadata": {},
   "outputs": [
    {
     "name": "stderr",
     "output_type": "stream",
     "text": [
      "/home/ritesh/anaconda3/lib/python3.7/site-packages/pandas/plotting/_matplotlib/converter.py:103: FutureWarning: Using an implicitly registered datetime converter for a matplotlib plotting method. The converter was registered by pandas on import. Future versions of pandas will require you to explicitly register matplotlib converters.\n",
      "\n",
      "To register the converters:\n",
      "\t>>> from pandas.plotting import register_matplotlib_converters\n",
      "\t>>> register_matplotlib_converters()\n",
      "  warnings.warn(msg, FutureWarning)\n"
     ]
    },
    {
     "data": {
      "image/png": "[encoded data removed]",
      "text/plain": [
       "<Figure size 648x288 with 1 Axes>"
      ]
     },
     "metadata": {
      "needs_background": "light"
     },
     "output_type": "display_data"
    }
   ],
   "source": [
    "# Generating a plot of the data with missing values\n",
    "# Setting figure properties\n",
    "params = {'legend.fontsize' : 'large',\n",
    "         'figure.figsize': (9,4),\n",
    "         'axes.labelsize': 'large',\n",
    "         'xtick.labelsize': 'medium',\n",
    "         'ytick.labelsize': 'medium'}\n",
    "plt.rcParams.update(params)\n",
    "\n",
    "# Generate colors using nices seaborn color palette\n",
    "colors = {\"house1\": sns.color_palette(\"Set1\", n_colors=8, desat=.5)[2],\\\n",
    "          \"house2\": sns.color_palette(\"Set1\", n_colors=8, desat=.5)[3]}\n",
    "\n",
    "fig, ax = plt.subplots()\n",
    "\n",
    "for myhouse in [\"house1\", \"house2\"]:\n",
    "    ax.scatter(pd.DatetimeIndex(df0[df0.house==myhouse]['datetime']),\n",
    "               df0[df0.house==myhouse]['readvalue'],\n",
    "               color=colors[myhouse],\n",
    "               s=80)\n",
    "\n",
    "ax.set_xlabel(\"ReadDate\")\n",
    "ax.set_ylabel(\"ReadValue\")\n",
    "\n",
    "# Format x-axis to properly displays dates\n",
    "fig.autofmt_xdate()\n",
    "ax.set_xlim(min(pd.DatetimeIndex(df0['datetime'])), max(pd.DatetimeIndex(df0['datetime'])))\n",
    "ax.set_ylim([-0.1, 1.1])\n",
    "\n",
    "plt.tight_layout()\n",
    "plt.savefig('interpolating-timeseries-p1-pandas-fig1.png')\n",
    "plt.show()\n",
    "\n"
   ]
  },
  {
   "cell_type": "markdown",
   "metadata": {},
   "source": [
    "We will now look at three different methods of interpolating the missing read values: forward-filling, backward-filling and interpolating. Remember that it is crucial to choose the adequate interpolation method for the task at hand. Special care needs to be taken when looking at forecasting tasks (for example if you want to use your interpolated data for forecasting weather than you need to remember that you cannot interpolate the weather of today using the weather of tomorrow since it is still unknown).\n",
    "\n",
    "In order to interpolate the data, we will make use of the groupby() function followed by resample(). However, first we need to convert the read dates to datetime format and set them as index of our dataframe:\n"
   ]
  },
  {
   "cell_type": "code",
   "execution_count": 4,
   "metadata": {},
   "outputs": [],
   "source": [
    "df = df0.copy()\n",
    "df['datetime'] = pd.to_datetime(df['datetime'])\n",
    "df.index = df['datetime']\n",
    "del df['datetime']"
   ]
  },
  {
   "cell_type": "markdown",
   "metadata": {},
   "source": [
    "\n",
    "\n",
    "This is how the structure of the dataframe looks like now:\n"
   ]
  },
  {
   "cell_type": "code",
   "execution_count": 11,
   "metadata": {},
   "outputs": [
    {
     "data": {
      "text/html": [
       "<div>\n",
       "<style scoped>\n",
       "    .dataframe tbody tr th:only-of-type {\n",
       "        vertical-align: middle;\n",
       "    }\n",
       "\n",
       "    .dataframe tbody tr th {\n",
       "        vertical-align: top;\n",
       "    }\n",
       "\n",
       "    .dataframe thead th {\n",
       "        text-align: right;\n",
       "    }\n",
       "</style>\n",
       "<table border=\"1\" class=\"dataframe\">\n",
       "  <thead>\n",
       "    <tr style=\"text-align: right;\">\n",
       "      <th></th>\n",
       "      <th>house</th>\n",
       "      <th>readvalue</th>\n",
       "    </tr>\n",
       "    <tr>\n",
       "      <th>datetime</th>\n",
       "      <th></th>\n",
       "      <th></th>\n",
       "    </tr>\n",
       "  </thead>\n",
       "  <tbody>\n",
       "    <tr>\n",
       "      <td>2018-01-15</td>\n",
       "      <td>house1</td>\n",
       "      <td>0.500000</td>\n",
       "    </tr>\n",
       "    <tr>\n",
       "      <td>2018-01-18</td>\n",
       "      <td>house1</td>\n",
       "      <td>0.793893</td>\n",
       "    </tr>\n",
       "    <tr>\n",
       "      <td>2018-01-19</td>\n",
       "      <td>house1</td>\n",
       "      <td>0.871572</td>\n",
       "    </tr>\n",
       "    <tr>\n",
       "      <td>2018-01-24</td>\n",
       "      <td>house1</td>\n",
       "      <td>0.975528</td>\n",
       "    </tr>\n",
       "    <tr>\n",
       "      <td>2018-01-25</td>\n",
       "      <td>house1</td>\n",
       "      <td>0.933013</td>\n",
       "    </tr>\n",
       "  </tbody>\n",
       "</table>\n",
       "</div>"
      ],
      "text/plain": [
       "             house  readvalue\n",
       "datetime                     \n",
       "2018-01-15  house1   0.500000\n",
       "2018-01-18  house1   0.793893\n",
       "2018-01-19  house1   0.871572\n",
       "2018-01-24  house1   0.975528\n",
       "2018-01-25  house1   0.933013"
      ]
     },
     "execution_count": 11,
     "metadata": {},
     "output_type": "execute_result"
    }
   ],
   "source": [
    "df.head()"
   ]
  },
  {
   "cell_type": "code",
   "execution_count": 12,
   "metadata": {},
   "outputs": [
    {
     "data": {
      "text/plain": [
       "(31, 2)"
      ]
     },
     "execution_count": 12,
     "metadata": {},
     "output_type": "execute_result"
    }
   ],
   "source": [
    "df.shape"
   ]
  },
  {
   "cell_type": "markdown",
   "metadata": {},
   "source": [
    "\n",
    "## Interpolation:\n",
    "\n",
    "Since we want to interpolate for each house separately, we need to group our data by 'house' before we can use the resample() function with the option 'D' to resample the data to daily frequency.\n",
    "\n",
    "The next step is then to use mean-filling, forward-filling or backward-filling to determine how the newly generated grid is supposed to be filled.\n",
    "### mean():\n",
    "\n",
    "Since we are strictly upsampling, using the mean() method, all missing read values are filled with NaNs:\n"
   ]
  },
  {
   "cell_type": "code",
   "execution_count": 6,
   "metadata": {},
   "outputs": [
    {
     "data": {
      "text/html": [
       "<div>\n",
       "<style scoped>\n",
       "    .dataframe tbody tr th:only-of-type {\n",
       "        vertical-align: middle;\n",
       "    }\n",
       "\n",
       "    .dataframe tbody tr th {\n",
       "        vertical-align: top;\n",
       "    }\n",
       "\n",
       "    .dataframe thead th {\n",
       "        text-align: right;\n",
       "    }\n",
       "</style>\n",
       "<table border=\"1\" class=\"dataframe\">\n",
       "  <thead>\n",
       "    <tr style=\"text-align: right;\">\n",
       "      <th></th>\n",
       "      <th></th>\n",
       "      <th>readvalue</th>\n",
       "    </tr>\n",
       "    <tr>\n",
       "      <th>house</th>\n",
       "      <th>datetime</th>\n",
       "      <th></th>\n",
       "    </tr>\n",
       "  </thead>\n",
       "  <tbody>\n",
       "    <tr>\n",
       "      <td rowspan=\"4\" valign=\"top\">house1</td>\n",
       "      <td>2018-01-15</td>\n",
       "      <td>0.500000</td>\n",
       "    </tr>\n",
       "    <tr>\n",
       "      <td>2018-01-16</td>\n",
       "      <td>NaN</td>\n",
       "    </tr>\n",
       "    <tr>\n",
       "      <td>2018-01-17</td>\n",
       "      <td>NaN</td>\n",
       "    </tr>\n",
       "    <tr>\n",
       "      <td>2018-01-18</td>\n",
       "      <td>0.793893</td>\n",
       "    </tr>\n",
       "  </tbody>\n",
       "</table>\n",
       "</div>"
      ],
      "text/plain": [
       "                   readvalue\n",
       "house  datetime             \n",
       "house1 2018-01-15   0.500000\n",
       "       2018-01-16        NaN\n",
       "       2018-01-17        NaN\n",
       "       2018-01-18   0.793893"
      ]
     },
     "execution_count": 6,
     "metadata": {},
     "output_type": "execute_result"
    }
   ],
   "source": [
    "df.groupby('house').resample('D').mean().head(4)"
   ]
  },
  {
   "cell_type": "markdown",
   "metadata": {},
   "source": [
    "\n",
    "### pad() - forward filling\n",
    "\n",
    "Using .pad() instead of .mean() forward-fills the NaNs.\n"
   ]
  },
  {
   "cell_type": "code",
   "execution_count": 7,
   "metadata": {},
   "outputs": [
    {
     "data": {
      "text/html": [
       "<div>\n",
       "<style scoped>\n",
       "    .dataframe tbody tr th:only-of-type {\n",
       "        vertical-align: middle;\n",
       "    }\n",
       "\n",
       "    .dataframe tbody tr th {\n",
       "        vertical-align: top;\n",
       "    }\n",
       "\n",
       "    .dataframe thead th {\n",
       "        text-align: right;\n",
       "    }\n",
       "</style>\n",
       "<table border=\"1\" class=\"dataframe\">\n",
       "  <thead>\n",
       "    <tr style=\"text-align: right;\">\n",
       "      <th></th>\n",
       "      <th></th>\n",
       "      <th>readvalue</th>\n",
       "    </tr>\n",
       "    <tr>\n",
       "      <th>house</th>\n",
       "      <th>datetime</th>\n",
       "      <th></th>\n",
       "    </tr>\n",
       "  </thead>\n",
       "  <tbody>\n",
       "    <tr>\n",
       "      <td rowspan=\"4\" valign=\"top\">house1</td>\n",
       "      <td>2018-01-15</td>\n",
       "      <td>0.500000</td>\n",
       "    </tr>\n",
       "    <tr>\n",
       "      <td>2018-01-16</td>\n",
       "      <td>0.500000</td>\n",
       "    </tr>\n",
       "    <tr>\n",
       "      <td>2018-01-17</td>\n",
       "      <td>0.500000</td>\n",
       "    </tr>\n",
       "    <tr>\n",
       "      <td>2018-01-18</td>\n",
       "      <td>0.793893</td>\n",
       "    </tr>\n",
       "  </tbody>\n",
       "</table>\n",
       "</div>"
      ],
      "text/plain": [
       "                   readvalue\n",
       "house  datetime             \n",
       "house1 2018-01-15   0.500000\n",
       "       2018-01-16   0.500000\n",
       "       2018-01-17   0.500000\n",
       "       2018-01-18   0.793893"
      ]
     },
     "execution_count": 7,
     "metadata": {},
     "output_type": "execute_result"
    }
   ],
   "source": [
    "df_pad = df.groupby('house')\\\n",
    "            .resample('D')\\\n",
    "            .pad()\\\n",
    "            .drop('house', axis=1)\n",
    "df_pad.head(4)"
   ]
  },
  {
   "cell_type": "markdown",
   "metadata": {},
   "source": [
    "\n",
    "## bfill - backward filling:\n",
    "\n",
    "Using .bfill() instead of .mean() backward-fills the NaNs:\n"
   ]
  },
  {
   "cell_type": "code",
   "execution_count": 8,
   "metadata": {},
   "outputs": [
    {
     "data": {
      "text/html": [
       "<div>\n",
       "<style scoped>\n",
       "    .dataframe tbody tr th:only-of-type {\n",
       "        vertical-align: middle;\n",
       "    }\n",
       "\n",
       "    .dataframe tbody tr th {\n",
       "        vertical-align: top;\n",
       "    }\n",
       "\n",
       "    .dataframe thead th {\n",
       "        text-align: right;\n",
       "    }\n",
       "</style>\n",
       "<table border=\"1\" class=\"dataframe\">\n",
       "  <thead>\n",
       "    <tr style=\"text-align: right;\">\n",
       "      <th></th>\n",
       "      <th></th>\n",
       "      <th>readvalue</th>\n",
       "    </tr>\n",
       "    <tr>\n",
       "      <th>house</th>\n",
       "      <th>datetime</th>\n",
       "      <th></th>\n",
       "    </tr>\n",
       "  </thead>\n",
       "  <tbody>\n",
       "    <tr>\n",
       "      <td rowspan=\"4\" valign=\"top\">house1</td>\n",
       "      <td>2018-01-15</td>\n",
       "      <td>0.500000</td>\n",
       "    </tr>\n",
       "    <tr>\n",
       "      <td>2018-01-16</td>\n",
       "      <td>0.793893</td>\n",
       "    </tr>\n",
       "    <tr>\n",
       "      <td>2018-01-17</td>\n",
       "      <td>0.793893</td>\n",
       "    </tr>\n",
       "    <tr>\n",
       "      <td>2018-01-18</td>\n",
       "      <td>0.793893</td>\n",
       "    </tr>\n",
       "  </tbody>\n",
       "</table>\n",
       "</div>"
      ],
      "text/plain": [
       "                   readvalue\n",
       "house  datetime             \n",
       "house1 2018-01-15   0.500000\n",
       "       2018-01-16   0.793893\n",
       "       2018-01-17   0.793893\n",
       "       2018-01-18   0.793893"
      ]
     },
     "execution_count": 8,
     "metadata": {},
     "output_type": "execute_result"
    }
   ],
   "source": [
    "df_bfill = df.groupby('house')\\\n",
    "            .resample('D')\\\n",
    "            .bfill()\\\n",
    "            .drop('house', axis=1)\n",
    "df_bfill.head(4)"
   ]
  },
  {
   "cell_type": "markdown",
   "metadata": {},
   "source": [
    "## interpolate() - interpolating\n",
    "\n",
    "If we want to mean interpolate the missing values, we need to do this in two steps. First, we generate the data grid by using mean() to generate NaNs. Afterwards we fill the NaNs by interpolated values by calling the interpolate() method on the readvalue column:\n"
   ]
  },
  {
   "cell_type": "code",
   "execution_count": 9,
   "metadata": {},
   "outputs": [
    {
     "data": {
      "text/html": [
       "<div>\n",
       "<style scoped>\n",
       "    .dataframe tbody tr th:only-of-type {\n",
       "        vertical-align: middle;\n",
       "    }\n",
       "\n",
       "    .dataframe tbody tr th {\n",
       "        vertical-align: top;\n",
       "    }\n",
       "\n",
       "    .dataframe thead th {\n",
       "        text-align: right;\n",
       "    }\n",
       "</style>\n",
       "<table border=\"1\" class=\"dataframe\">\n",
       "  <thead>\n",
       "    <tr style=\"text-align: right;\">\n",
       "      <th></th>\n",
       "      <th></th>\n",
       "      <th>readvalue</th>\n",
       "    </tr>\n",
       "    <tr>\n",
       "      <th>house</th>\n",
       "      <th>datetime</th>\n",
       "      <th></th>\n",
       "    </tr>\n",
       "  </thead>\n",
       "  <tbody>\n",
       "    <tr>\n",
       "      <td rowspan=\"4\" valign=\"top\">house1</td>\n",
       "      <td>2018-01-15</td>\n",
       "      <td>0.500000</td>\n",
       "    </tr>\n",
       "    <tr>\n",
       "      <td>2018-01-16</td>\n",
       "      <td>0.597964</td>\n",
       "    </tr>\n",
       "    <tr>\n",
       "      <td>2018-01-17</td>\n",
       "      <td>0.695928</td>\n",
       "    </tr>\n",
       "    <tr>\n",
       "      <td>2018-01-18</td>\n",
       "      <td>0.793893</td>\n",
       "    </tr>\n",
       "  </tbody>\n",
       "</table>\n",
       "</div>"
      ],
      "text/plain": [
       "                   readvalue\n",
       "house  datetime             \n",
       "house1 2018-01-15   0.500000\n",
       "       2018-01-16   0.597964\n",
       "       2018-01-17   0.695928\n",
       "       2018-01-18   0.793893"
      ]
     },
     "execution_count": 9,
     "metadata": {},
     "output_type": "execute_result"
    }
   ],
   "source": [
    "df_interpol = df.groupby('house')\\\n",
    "                .resample('D')\\\n",
    "                .mean()\n",
    "df_interpol['readvalue'] = df_interpol['readvalue'].interpolate()\n",
    "df_interpol.head(4)"
   ]
  },
  {
   "cell_type": "markdown",
   "metadata": {},
   "source": [
    "## Visualizing the Results\n",
    "\n",
    "Finally we can visualize the three different filling methods to get a better idea of their results. The opaque dots show the interpolated values.\n",
    "\n",
    "We can clearly see how in the top figure, the gaps have been filled with the last known value, in the middle figure, the gaps have been filled with the next value to come and in the bottom figure the difference has been interpolated.\n"
   ]
  },
  {
   "cell_type": "code",
   "execution_count": 10,
   "metadata": {},
   "outputs": [
    {
     "data": {
      "image/png": "[encoded data removed]",
      "text/plain": [
       "<Figure size 648x576 with 4 Axes>"
      ]
     },
     "metadata": {
      "needs_background": "light"
     },
     "output_type": "display_data"
    }
   ],
   "source": [
    "# Setting figure parameters\n",
    "params = {'legend.fontsize' : 'large',\n",
    "         'figure.figsize': (9,8),\n",
    "         'axes.labelsize': 'large',\n",
    "         'xtick.labelsize': 'medium',\n",
    "         'ytick.labelsize': 'medium'}\n",
    "plt.rcParams.update(params)\n",
    "\n",
    "# Generate a list of dataframes to loop over\n",
    "dfs = []\n",
    "dfs.append(df_pad.reset_index())\n",
    "dfs.append(df_bfill.reset_index())\n",
    "dfs.append(df_interpol.reset_index())\n",
    "\n",
    "ylabel = ['pad', 'bfill', 'interpolate']\n",
    "\n",
    "n_df = len(dfs)\n",
    "fig, ax = plt.subplots(n_df)\n",
    "\n",
    "for myhouse in [\"house1\", \"house2\"]:\n",
    "\n",
    "    for i in range(n_df):\n",
    "        ax[i].scatter(pd.DatetimeIndex(dfs[i][dfs[i].house==myhouse]['datetime']), pd.to_numeric(dfs[i][dfs[i].house==myhouse]['readvalue']), color=colors[myhouse], s=60, alpha=0.5)\n",
    "        ax[i].scatter(pd.DatetimeIndex(df0[df0.house==myhouse]['datetime']), pd.to_numeric(df0[df0.house==myhouse]['readvalue']), color=colors[myhouse], s=60)\n",
    "        \n",
    "        ax[i].set_xlim(min(pd.DatetimeIndex(df0['datetime'])), max(pd.DatetimeIndex(df0['datetime'])))\n",
    "        ax[i].set_ylim([-0.1, 1.1])\n",
    "\n",
    "fig.autofmt_xdate()\n",
    "\n",
    "for i in range(n_df):\n",
    "    ax[i].set_ylabel(ylabel[i])\n",
    "\n",
    "# Adding another subplot in order to have common y-label\n",
    "fig.add_subplot(111, frameon=False)\n",
    "# hide tick and tick label of the common axes\n",
    "plt.tick_params(labelcolor='none', top='off', bottom='off', left='off', right='off')\n",
    "plt.grid(False)\n",
    "plt.xlabel('ReadDate', labelpad=40)\n",
    "plt.ylabel('ReadValue', labelpad=40)\n",
    "\n",
    "plt.tight_layout()\n",
    "plt.savefig('interpolating-timeseries-p1-pandas-fig2.png')\n",
    "plt.show()\n",
    "plt.close()\n",
    "\n"
   ]
  },
  {
   "cell_type": "markdown",
   "metadata": {},
   "source": [
    "# Summary:\n",
    "\n",
    "* We have seen how we can use Python Pandas to interpolate time series data using either backfill, forward fill or interpolation methods. Having used this example to set the scene, in the next post, we will see how to achieve the same thing using PySpark.\n",
    "\n",
    "\n",
    "* Pandas dataframe.interpolate() function is basically used to fill NA values in the dataframe or series. But, this is a very powerful function to fill the missing values. It uses various interpolation technique to fill the missing values rather than hard-coding the value.\n",
    "\n",
    "\n",
    "* Syntax: DataFrame.interpolate(method=’linear’, axis=0, limit=None, inplace=False, limit_direction=’forward’, limit_area=None, downcast=None, **kwargs)\n",
    "\n",
    "Parameters :\n",
    "method : {‘linear’, ‘time’, ‘index’, ‘values’, ‘nearest’, ‘zero’, ‘slinear’, ‘quadratic’, ‘cubic’, ‘barycentric’, ‘krogh’, ‘polynomial’, ‘spline’, ‘piecewise_polynomial’, ‘from_derivatives’, ‘pchip’, ‘akima’}\n",
    "\n",
    "axis : 0 fill column-by-column and 1 fill row-by-row.\n",
    "\n",
    "limit : Maximum number of consecutive NaNs to fill. Must be greater than 0.\n",
    "\n",
    "limit_direction : {‘forward’, ‘backward’, ‘both’}, default ‘forward’\n",
    "\n",
    "limit_area : None (default) no fill restriction. inside Only fill NaNs surrounded by valid values (interpolate). outside Only fill NaNs outside valid values (extrapolate). If limit is specified, consecutive NaNs will be filled in this direction.\n",
    "\n",
    "inplace : Update the NDFrame in place if possible.\n",
    "\n",
    "downcast : Downcast dtypes if possible.\n",
    "\n",
    "kwargs : keyword arguments to pass on to the interpolating function.\n",
    "\n",
    "Returns : Series or DataFrame of same shape interpolated at the NaNs "
   ]
  }
 ],
 "metadata": {
  "kernelspec": {
   "display_name": "Python 3",
   "language": "python",
   "name": "python3"
  },
  "language_info": {
   "codemirror_mode": {
    "name": "ipython",
    "version": 3
   },
   "file_extension": ".py",
   "mimetype": "text/x-python",
   "name": "python",
   "nbconvert_exporter": "python",
   "pygments_lexer": "ipython3",
   "version": "3.7.3"
  }
 },
 "nbformat": 4,
 "nbformat_minor": 2
}
