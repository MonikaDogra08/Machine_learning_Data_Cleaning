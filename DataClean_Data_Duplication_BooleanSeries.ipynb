{
 "cells": [
  {
   "cell_type": "markdown",
   "metadata": {},
   "source": [
    "# Data Cleaning\n",
    "## Data Duplication\n",
    "### Description: Removing the repeated data or duplicate data\n",
    "#### Link: https://www.kaggle.com/rtatman/data-cleaning-challenge-cleaning-numeric-columns/\n",
    "#### Author: Sravani.G\n",
    "#### Revision: 1\n",
    "####  Date: 22 Aug 2019\n"
   ]
  },
  {
   "cell_type": "markdown",
   "metadata": {},
   "source": [
    "## Import Libraries"
   ]
  },
  {
   "cell_type": "code",
   "execution_count": 11,
   "metadata": {},
   "outputs": [],
   "source": [
    "import numpy as np\n",
    "import pandas as pd"
   ]
  },
  {
   "cell_type": "markdown",
   "metadata": {},
   "source": [
    "## Data Set:"
   ]
  },
  {
   "cell_type": "code",
   "execution_count": 12,
   "metadata": {},
   "outputs": [
    {
     "name": "stdout",
     "output_type": "stream",
     "text": [
      "    Sl.no    Country   People  Fmlymem  Childs  GnpPrnt\n",
      "0       1      India    Jagan        8       3        2\n",
      "1       2    America   Murali        5       2        1\n",
      "2       3    Newyork    Shiva        4       2        0\n",
      "3       3    America    Shiva        4       2        0\n",
      "4       4  Australia  Sreedar        3       1        0\n",
      "5       4  Australia  Sreedar        3       1        0\n",
      "6       6     Canada   Suhale        1       0        0\n",
      "7       6     Europe    Pinki        3       1        0\n",
      "8       7     Europe   Shreya        2       0        1\n",
      "9       8      India   Kishan        4       2        0\n",
      "10      9      China   Vamshi        4       0        2\n"
     ]
    }
   ],
   "source": [
    "#  imputation for deleting duplicated data\n",
    "# read in steam  book data & column names\n",
    "df = pd.read_csv (\"/Users/HP/Desktop/Data_Duplication_BooleanSeries.csv\")\n",
    "print(df)"
   ]
  },
  {
   "cell_type": "markdown",
   "metadata": {},
   "source": [
    "### Adding columns"
   ]
  },
  {
   "cell_type": "code",
   "execution_count": 13,
   "metadata": {},
   "outputs": [
    {
     "name": "stdout",
     "output_type": "stream",
     "text": [
      "    Sl.no    Country   People  Fmlymem  Childs  GnpPrnt     Import     Export\n",
      "0       1      India    Jagan        8       3        2         pc    android\n",
      "1       2    America   Murali        5       2        1        cpu         pc\n",
      "2       3    Newyork    Shiva        4       2        0     phones    printer\n",
      "3       3    America    Shiva        4       2        0     phones    printer\n",
      "4       4  Australia  Sreedar        3       1        0     laptop     iphone\n",
      "5       4  Australia  Sreedar        3       1        0     laptop     iphone\n",
      "6       6     Canada   Suhale        1       0        0     iphone  earphones\n",
      "7       6     Europe    Pinki        3       1        0    android        pcs\n",
      "8       7     Europe   Shreya        2       0        1  earphones     laptop\n",
      "9       8      India   Kishan        4       2        0        pcs     phones\n",
      "10      9      China   Vamshi        4       0        2    printer    android\n"
     ]
    }
   ],
   "source": [
    "# add column names\n",
    "df['Import'] = 'pc', 'cpu' , 'phones', 'phones', 'laptop', 'laptop', 'iphone', 'android', 'earphones', 'pcs', 'printer'\n",
    "df['Export'] = 'android', 'pc', 'printer', 'printer', 'iphone', 'iphone', 'earphones', 'pcs', 'laptop', 'phones','android'\n",
    "#printing the added column data\n",
    "print(df)\n"
   ]
  },
  {
   "cell_type": "markdown",
   "metadata": {},
   "source": [
    "### Last row Displaying"
   ]
  },
  {
   "cell_type": "code",
   "execution_count": 14,
   "metadata": {},
   "outputs": [
    {
     "name": "stdout",
     "output_type": "stream",
     "text": [
      "    Sl.no Country  People  Fmlymem  Childs  GnpPrnt   Import   Export\n",
      "10      9   China  Vamshi        4       0        2  printer  android\n"
     ]
    }
   ],
   "source": [
    "print(df[10:])   # last row of the data"
   ]
  },
  {
   "cell_type": "markdown",
   "metadata": {},
   "source": [
    "## Sorting the Data by particular column"
   ]
  },
  {
   "cell_type": "code",
   "execution_count": 15,
   "metadata": {},
   "outputs": [
    {
     "data": {
      "text/html": [
       "<div>\n",
       "<style scoped>\n",
       "    .dataframe tbody tr th:only-of-type {\n",
       "        vertical-align: middle;\n",
       "    }\n",
       "\n",
       "    .dataframe tbody tr th {\n",
       "        vertical-align: top;\n",
       "    }\n",
       "\n",
       "    .dataframe thead th {\n",
       "        text-align: right;\n",
       "    }\n",
       "</style>\n",
       "<table border=\"1\" class=\"dataframe\">\n",
       "  <thead>\n",
       "    <tr style=\"text-align: right;\">\n",
       "      <th></th>\n",
       "      <th>Sl.no</th>\n",
       "      <th>Country</th>\n",
       "      <th>People</th>\n",
       "      <th>Fmlymem</th>\n",
       "      <th>Childs</th>\n",
       "      <th>GnpPrnt</th>\n",
       "      <th>Import</th>\n",
       "      <th>Export</th>\n",
       "    </tr>\n",
       "  </thead>\n",
       "  <tbody>\n",
       "    <tr>\n",
       "      <th>0</th>\n",
       "      <td>1</td>\n",
       "      <td>India</td>\n",
       "      <td>Jagan</td>\n",
       "      <td>8</td>\n",
       "      <td>3</td>\n",
       "      <td>2</td>\n",
       "      <td>pc</td>\n",
       "      <td>android</td>\n",
       "    </tr>\n",
       "    <tr>\n",
       "      <th>9</th>\n",
       "      <td>8</td>\n",
       "      <td>India</td>\n",
       "      <td>Kishan</td>\n",
       "      <td>4</td>\n",
       "      <td>2</td>\n",
       "      <td>0</td>\n",
       "      <td>pcs</td>\n",
       "      <td>phones</td>\n",
       "    </tr>\n",
       "    <tr>\n",
       "      <th>1</th>\n",
       "      <td>2</td>\n",
       "      <td>America</td>\n",
       "      <td>Murali</td>\n",
       "      <td>5</td>\n",
       "      <td>2</td>\n",
       "      <td>1</td>\n",
       "      <td>cpu</td>\n",
       "      <td>pc</td>\n",
       "    </tr>\n",
       "    <tr>\n",
       "      <th>7</th>\n",
       "      <td>6</td>\n",
       "      <td>Europe</td>\n",
       "      <td>Pinki</td>\n",
       "      <td>3</td>\n",
       "      <td>1</td>\n",
       "      <td>0</td>\n",
       "      <td>android</td>\n",
       "      <td>pcs</td>\n",
       "    </tr>\n",
       "    <tr>\n",
       "      <th>2</th>\n",
       "      <td>3</td>\n",
       "      <td>Newyork</td>\n",
       "      <td>Shiva</td>\n",
       "      <td>4</td>\n",
       "      <td>2</td>\n",
       "      <td>0</td>\n",
       "      <td>phones</td>\n",
       "      <td>printer</td>\n",
       "    </tr>\n",
       "  </tbody>\n",
       "</table>\n",
       "</div>"
      ],
      "text/plain": [
       "   Sl.no  Country  People  Fmlymem  Childs  GnpPrnt   Import   Export\n",
       "0      1    India   Jagan        8       3        2       pc  android\n",
       "9      8    India  Kishan        4       2        0      pcs   phones\n",
       "1      2  America  Murali        5       2        1      cpu       pc\n",
       "7      6   Europe   Pinki        3       1        0  android      pcs\n",
       "2      3  Newyork   Shiva        4       2        0   phones  printer"
      ]
     },
     "execution_count": 15,
     "metadata": {},
     "output_type": "execute_result"
    }
   ],
   "source": [
    "df.sort_values(\"People\", inplace = True)   # sorting by people \n",
    "df.head()    #displaying data "
   ]
  },
  {
   "cell_type": "markdown",
   "metadata": {},
   "source": [
    "## Deleting the Duplicate data Using bool_series in pandas"
   ]
  },
  {
   "cell_type": "code",
   "execution_count": 16,
   "metadata": {},
   "outputs": [
    {
     "name": "stdout",
     "output_type": "stream",
     "text": [
      "<class 'pandas.core.frame.DataFrame'>\n",
      "Int64Index: 9 entries, 0 to 10\n",
      "Data columns (total 8 columns):\n",
      "Sl.no      9 non-null int64\n",
      "Country    9 non-null object\n",
      "People     9 non-null object\n",
      "Fmlymem    9 non-null int64\n",
      "Childs     9 non-null int64\n",
      "GnpPrnt    9 non-null int64\n",
      "Import     9 non-null object\n",
      "Export     9 non-null object\n",
      "dtypes: int64(4), object(4)\n",
      "memory usage: 648.0+ bytes\n",
      "    Sl.no    Country   People  Fmlymem  Childs  GnpPrnt     Import     Export\n",
      "0       1      India    Jagan        8       3        2         pc    android\n",
      "9       8      India   Kishan        4       2        0        pcs     phones\n",
      "1       2    America   Murali        5       2        1        cpu         pc\n",
      "7       6     Europe    Pinki        3       1        0    android        pcs\n",
      "2       3    Newyork    Shiva        4       2        0     phones    printer\n",
      "8       7     Europe   Shreya        2       0        1  earphones     laptop\n",
      "4       4  Australia  Sreedar        3       1        0     laptop     iphone\n",
      "6       6     Canada   Suhale        1       0        0     iphone  earphones\n",
      "10      9      China   Vamshi        4       0        2    printer    android\n"
     ]
    }
   ],
   "source": [
    "bool_series = df[\"People\"].duplicated()  # making a bool series\n",
    "bool_series # bool series  \n",
    "df = df[~bool_series]   # passing NOT of bool series to see unique values only  \n",
    "df.info() # displaying data \n",
    "print(df)"
   ]
  },
  {
   "cell_type": "markdown",
   "metadata": {},
   "source": [
    "### some data having same sl.no to update"
   ]
  },
  {
   "cell_type": "code",
   "execution_count": 17,
   "metadata": {},
   "outputs": [
    {
     "name": "stdout",
     "output_type": "stream",
     "text": [
      "    Sl.no    Country   People  Fmlymem  Childs  GnpPrnt     Import     Export\n",
      "0       1      India    Jagan        8       3        2         pc    android\n",
      "9       8      India   Kishan        4       2        0        pcs     phones\n",
      "1       2    America   Murali        5       2        1        cpu         pc\n",
      "7       6     Europe    Pinki        3       1        0    android        pcs\n",
      "2       3    Newyork    Shiva        4       2        0     phones    printer\n",
      "8       7     Europe   Shreya        2       0        1  earphones     laptop\n",
      "4       4  Australia  Sreedar        3       1        0     laptop     iphone\n",
      "6       5     Canada   Suhale        1       0        0     iphone  earphones\n",
      "10      9      China   Vamshi        4       0        2    printer    android\n"
     ]
    }
   ],
   "source": [
    "# sl.no in the column has same to update \n",
    "df.loc[6, 'Sl.no'] = 5\n",
    "print(df)"
   ]
  },
  {
   "cell_type": "markdown",
   "metadata": {},
   "source": [
    "## summary: \n",
    "#### *DataFrame.sort_values(\"particular column\", inplace = True): This function used in pandas to sort particular column in the dataset as inplacing them as True.\n",
    "#### *DataFrame[\"particular column\"].duplicate() is a function used for sloely deleting the duplicate data for column. \n",
    "##### *bool_series is used to store the data to perform duplication function.\n",
    "##### *In order to access or update a dataframe with a boolean index using \n",
    "####  DataFrame.loc[index value, 'paticular column'] = value to update"
   ]
  },
  {
   "cell_type": "code",
   "execution_count": null,
   "metadata": {},
   "outputs": [],
   "source": []
  }
 ],
 "metadata": {
  "kernelspec": {
   "display_name": "Python 3",
   "language": "python",
   "name": "python3"
  },
  "language_info": {
   "codemirror_mode": {
    "name": "ipython",
    "version": 3
   },
   "file_extension": ".py",
   "mimetype": "text/x-python",
   "name": "python",
   "nbconvert_exporter": "python",
   "pygments_lexer": "ipython3",
   "version": "3.7.3"
  }
 },
 "nbformat": 4,
 "nbformat_minor": 2
}
