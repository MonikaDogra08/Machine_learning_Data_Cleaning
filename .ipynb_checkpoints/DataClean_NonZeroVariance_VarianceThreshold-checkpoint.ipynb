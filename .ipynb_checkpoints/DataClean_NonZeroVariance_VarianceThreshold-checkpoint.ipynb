{
 "cells": [
  {
   "cell_type": "markdown",
   "metadata": {},
   "source": [
    "# Non Zero Variance\n",
    "### Description: calculating the variance which is near to zero and removing it\n",
    "### References: www.kaggle.com\n",
    "### Link: https://stackoverflow.com/questions/29298973/removing-features-with-low-variance-using-scikit-learn\n"
   ]
  },
  {
   "cell_type": "markdown",
   "metadata": {},
   "source": [
    "## Import Libraries"
   ]
  },
  {
   "cell_type": "code",
   "execution_count": 90,
   "metadata": {},
   "outputs": [
    {
     "name": "stdout",
     "output_type": "stream",
     "text": [
      "6.666666666666667\n",
      "69.10204081632652\n"
     ]
    }
   ],
   "source": [
    "# calculate variance\n",
    "import numpy as np\n",
    "import pandas as pd \n",
    "from sklearn.feature_selection import VarianceThreshold           #Feature selector that removes all low-variance features\n",
    "\n",
    "print(np.var([1,9,5,6,8,7]))            ##sample data showing the variance\n",
    "print(np.var([4,-11,-5,16,5,7,9]))      #sample variance using single mode command"
   ]
  },
  {
   "cell_type": "markdown",
   "metadata": {},
   "source": [
    "## Data Set:"
   ]
  },
  {
   "cell_type": "code",
   "execution_count": 91,
   "metadata": {},
   "outputs": [
    {
     "name": "stdout",
     "output_type": "stream",
     "text": [
      "   A   B   C   D   E  F  G  H\n",
      "0  2   0   3   4   0  0  2  1\n",
      "1  7   4   6   0  12  0  2  7\n",
      "2  5   6   0  12   0  0  2  1\n",
      "3  6   0  12  16  24  0  2  1\n",
      "4  0   0   0   0   0  0  2  1\n",
      "5  8  12  18   0   0  0  2  1\n",
      "6  9  14   0  28  42  0  3  1\n",
      "7  0   0  24  32  48  0  2  1\n",
      "8  0   0   0   0   0  0  2  1\n",
      "9  4  20  30  40  60  0  2  1\n"
     ]
    }
   ],
   "source": [
    "data = pd.DataFrame({'A': [2,7,5,6,0,8,9,0,0,4],\n",
    "                     'B': [0,4,6,0,0,12,14,0,0,20],\n",
    "                     'C': [3,6,0,12,0,18,0,24,0,30],\n",
    "                     'D': [4,0,12,16,0,0,28,32,0,40],\n",
    "                     'E': [0,12,0,24,0,0,42,48,0,60],\n",
    "                     'F': [0,0,0,0,0,0,0,0,0,0],\n",
    "                     'G': [2,2,2,2,2,2,3,2,2,2],\n",
    "                     'H': [1,7,1,1,1,1,1,1,1,1]})\n",
    "print(data)"
   ]
  },
  {
   "cell_type": "markdown",
   "metadata": {},
   "source": [
    "### Calculating the variance"
   ]
  },
  {
   "cell_type": "code",
   "execution_count": 92,
   "metadata": {},
   "outputs": [
    {
     "name": "stdout",
     "output_type": "stream",
     "text": [
      "A     11.877778\n",
      "B     53.155556\n",
      "C    124.900000\n",
      "D    231.288889\n",
      "E    547.600000\n",
      "F      0.000000\n",
      "G      0.100000\n",
      "H      3.600000\n",
      "dtype: float64\n",
      "0      2.285714\n",
      "1     16.785714\n",
      "2     17.928571\n",
      "3     78.839286\n",
      "4      0.553571\n",
      "5     46.696429\n",
      "6    236.982143\n",
      "7    353.982143\n",
      "8      0.553571\n",
      "9    491.410714\n",
      "dtype: float64\n",
      "53.15555555555555\n"
     ]
    }
   ],
   "source": [
    "# variance of the dataframe\n",
    "print(data.var())\n",
    "\n",
    "# column variance of the dataframe\n",
    "# print(data.var(axis=0))\n",
    "\n",
    "# Row variance of the dataframe\n",
    "print(data.var(axis=1))\n",
    "\n",
    "# variance of the specific column\n",
    "print(data.loc[:,\"B\"].var())"
   ]
  },
  {
   "cell_type": "markdown",
   "metadata": {},
   "source": [
    "### Removing the near zero variance"
   ]
  },
  {
   "cell_type": "code",
   "execution_count": 93,
   "metadata": {},
   "outputs": [
    {
     "name": "stdout",
     "output_type": "stream",
     "text": [
      "       A      B      C      D      E      F     G     H\n",
      "0   True  False   True   True  False  False  True  True\n",
      "1   True   True   True  False   True  False  True  True\n",
      "2   True   True  False   True  False  False  True  True\n",
      "3   True  False   True   True   True  False  True  True\n",
      "4  False  False  False  False  False  False  True  True\n",
      "5   True   True   True  False  False  False  True  True\n",
      "6   True   True  False   True   True  False  True  True\n",
      "7  False  False   True   True   True  False  True  True\n",
      "8  False  False  False  False  False  False  True  True\n",
      "9   True   True   True   True   True  False  True  True\n",
      "A     True\n",
      "B     True\n",
      "C     True\n",
      "D     True\n",
      "E     True\n",
      "F    False\n",
      "G     True\n",
      "H     True\n",
      "dtype: bool\n"
     ]
    }
   ],
   "source": [
    "print(data != 0)                                 ##data which having zero displayed as \n",
    "print((data != 0).any(axis=0))                   ##displays columns are having any zero values or not \n",
    "# df = data.loc[:, (data != 0).any(axis=0)]      ##display whole data and removes the column with more zero values \n",
    "# print(df)\n",
    "# Removing features with low variance variables from a dataframe\n",
    "# dataframe removing constant column\n",
    "# data = data.loc[:,data.apply(pd.Series.nunique) != 1]        #Ignoring NaNs like usual, a column is constant if nunique=1\n",
    "# print(data)\n"
   ]
  },
  {
   "cell_type": "markdown",
   "metadata": {},
   "source": [
    "### Features removing with low variances"
   ]
  },
  {
   "cell_type": "markdown",
   "metadata": {},
   "source": [
    "### Note: VarianceThreshold cannot calculate the strings data because it converts data into float."
   ]
  },
  {
   "cell_type": "code",
   "execution_count": 94,
   "metadata": {},
   "outputs": [
    {
     "name": "stdout",
     "output_type": "stream",
     "text": [
      "   A   B   C   D   E  F  G  H\n",
      "0  2   0   3   4   0  0  2  1\n",
      "1  7   4   6   0  12  0  2  7\n",
      "2  5   6   0  12   0  0  2  1\n",
      "3  6   0  12  16  24  0  2  1\n",
      "4  0   0   0   0   0  0  2  1\n",
      "5  8  12  18   0   0  0  2  1\n",
      "6  9  14   0  28  42  0  3  1\n",
      "7  0   0  24  32  48  0  2  1\n",
      "8  0   0   0   0   0  0  2  1\n",
      "9  4  20  30  40  60  0  2  1\n",
      "Found 3 low-variance columns.\n",
      "   0   1   2   3   4\n",
      "0  2   0   3   4   0\n",
      "1  7   4   6   0  12\n",
      "2  5   6   0  12   0\n",
      "3  6   0  12  16  24\n",
      "4  0   0   0   0   0\n",
      "5  8  12  18   0   0\n",
      "6  9  14   0  28  42\n",
      "7  0   0  24  32  48\n",
      "8  0   0   0   0   0\n",
      "9  4  20  30  40  60\n"
     ]
    }
   ],
   "source": [
    "print(data) \n",
    "#fit to data and then transform it\n",
    "# remaining_columns = data.columns\n",
    "# get dataframe values\n",
    "# d = data.loc[:, remaining_columns].values\n",
    "\n",
    "# instantiate VarianceThreshold object\n",
    "vt = VarianceThreshold(threshold=5.0)\n",
    "\n",
    "# fit vt to data        \n",
    "vt.fit(data)\n",
    "\n",
    "# get the indices of the dataframe that are being kept\n",
    "indices = vt.get_support(indices=True)\n",
    "\n",
    "# remove low-variance columns from index\n",
    "variance = [data.columns[idx] for idx, _ in enumerate(data.columns) if idx in indices]\n",
    "\n",
    "# get the columns to be removed\n",
    "removed = list(np.setdiff1d(data.columns,variance))\n",
    "print(\"Found {0} low-variance columns.\".format(len(removed)))\n",
    "\n",
    "# d_removed = d[:, vt.variances_ > threshold]\n",
    "data_removed = vt.transform(data)\n",
    "\n",
    "df = pd.DataFrame(data_removed)\n",
    "print(df)"
   ]
  },
  {
   "cell_type": "markdown",
   "metadata": {},
   "source": [
    "### Variance of Mean, Standard deviation"
   ]
  },
  {
   "cell_type": "code",
   "execution_count": 95,
   "metadata": {},
   "outputs": [
    {
     "data": {
      "text/html": [
       "<div>\n",
       "<style scoped>\n",
       "    .dataframe tbody tr th:only-of-type {\n",
       "        vertical-align: middle;\n",
       "    }\n",
       "\n",
       "    .dataframe tbody tr th {\n",
       "        vertical-align: top;\n",
       "    }\n",
       "\n",
       "    .dataframe thead th {\n",
       "        text-align: right;\n",
       "    }\n",
       "</style>\n",
       "<table border=\"1\" class=\"dataframe\">\n",
       "  <thead>\n",
       "    <tr style=\"text-align: right;\">\n",
       "      <th></th>\n",
       "      <th>0</th>\n",
       "      <th>1</th>\n",
       "      <th>2</th>\n",
       "      <th>3</th>\n",
       "      <th>4</th>\n",
       "    </tr>\n",
       "  </thead>\n",
       "  <tbody>\n",
       "    <tr>\n",
       "      <th>Mean</th>\n",
       "      <td>4.100000</td>\n",
       "      <td>5.600000</td>\n",
       "      <td>9.300000</td>\n",
       "      <td>13.200000</td>\n",
       "      <td>18.600000</td>\n",
       "    </tr>\n",
       "    <tr>\n",
       "      <th>Std. dev</th>\n",
       "      <td>3.446415</td>\n",
       "      <td>7.290786</td>\n",
       "      <td>11.175867</td>\n",
       "      <td>15.208185</td>\n",
       "      <td>23.400855</td>\n",
       "    </tr>\n",
       "    <tr>\n",
       "      <th>variance</th>\n",
       "      <td>11.877778</td>\n",
       "      <td>53.155556</td>\n",
       "      <td>124.900000</td>\n",
       "      <td>231.288889</td>\n",
       "      <td>547.600000</td>\n",
       "    </tr>\n",
       "  </tbody>\n",
       "</table>\n",
       "</div>"
      ],
      "text/plain": [
       "                  0          1           2           3           4\n",
       "Mean       4.100000   5.600000    9.300000   13.200000   18.600000\n",
       "Std. dev   3.446415   7.290786   11.175867   15.208185   23.400855\n",
       "variance  11.877778  53.155556  124.900000  231.288889  547.600000"
      ]
     },
     "execution_count": 95,
     "metadata": {},
     "output_type": "execute_result"
    }
   ],
   "source": [
    "# d = df.describe().reindex(['mean', 'std', 'variance'])\n",
    "# d.loc['variance'] = d.loc['std']**2                \n",
    "\n",
    "pd.DataFrame([df.mean(), df.std(), df.var()], index=['Mean', 'Std. dev', 'variance'])"
   ]
  },
  {
   "cell_type": "markdown",
   "metadata": {},
   "source": [
    "## Summary:\n",
    "\n",
    "### * In statistics, variance is a measure of how far a value in a data set lies from the mean value. In other words, it indicates how dispersed the values are.\n",
    "### * fit_transform(self, X, y=None, **fit_params) or VarianceThreshodlObj.fit(DataFrame) is  to fit data, then transform it. If it fits transformer to X and y with optional parameters fit_params and returns a transformed version of X.\n",
    "### * Variance of the dataframe is dataframe.var( if axis=None the shows variance of whole data, if axis=0 the it displays column variances, if axis=1 then displays rows variances) .\n",
    "### * Variance of the specific column is data.loc[:,\"column\"].var()).\n",
    "### * (data_frame != 0)  is used to display data which having zero. \n",
    "### * (data != 0).any(axis=0) to display columns which are having any zero values or not. \n",
    "### * data.loc[:, (data != 0).any(axis=0)] is for display whole data and removes the column with more zero values. \n",
    "### * Get the indices of the dataframe that are being kept using vt.get_support(indices=True).\n",
    "### * Calculating to remove low-variance columns from index by using (columns idx, _ in enumerate(columns) in the indices).\n",
    "### * Get the columns to be removed for low variance using the np.setdiff1d(columns,lowvariancecolumns)\n",
    "### * .format(len(removed_features)) it is used to display how many columns are low variance\n",
    "### * dataframe[:, vt.variances_ > threshold] or vt.transform(d) commands used to remove the low variance\n",
    "### * pd.DataFrame([df.mean(), df.std(), df.var()], index=['Mean', 'Std. dev', 'variance']) It calculates mean, std.dev and variance and creating a new data frame.\n",
    "\n",
    "\n"
   ]
  }
 ],
 "metadata": {
  "kernelspec": {
   "display_name": "Python 3",
   "language": "python",
   "name": "python3"
  },
  "language_info": {
   "codemirror_mode": {
    "name": "ipython",
    "version": 3
   },
   "file_extension": ".py",
   "mimetype": "text/x-python",
   "name": "python",
   "nbconvert_exporter": "python",
   "pygments_lexer": "ipython3",
   "version": "3.8.5"
  }
 },
 "nbformat": 4,
 "nbformat_minor": 2
}
