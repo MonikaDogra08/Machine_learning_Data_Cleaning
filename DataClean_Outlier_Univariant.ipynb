{
 "cells": [
  {
   "cell_type": "markdown",
   "metadata": {},
   "source": [
    "# OUTLIERS\n",
    "### Description: Ways to detect and remove the outliers of UniVariant\n",
    "### Refernces: www.datasciences.com\n",
    "### Link: (https://towardsdatascience.com/ways-to-detect-and-remove-the-outliers-404d16608dba)\n",
    "#### Author: Sravani.G & Monika.D\n",
    "#### Revision: 1\n",
    "#### Date: 05 Sep 2019"
   ]
  },
  {
   "cell_type": "markdown",
   "metadata": {},
   "source": [
    "## Import Libraries"
   ]
  },
  {
   "cell_type": "code",
   "execution_count": 1,
   "metadata": {},
   "outputs": [],
   "source": [
    "\n",
    "import numpy as np \n",
    "import pandas as pd \n",
    "from sklearn.datasets import load_boston\n",
    "import matplotlib.pyplot as plt\n",
    "import seaborn as sns\n",
    "from scipy import stats\n"
   ]
  },
  {
   "cell_type": "markdown",
   "metadata": {},
   "source": [
    "####  *Boston House Pricing Dataset which is included in the sklearn dataset API. To load the dataset and separate out the features and targets.\n",
    "#### *Matplotlib library is used to plot graphs from dataset.\n",
    "#### *Seaborn aims to make visualization a central part of exploring and understanding data. Its dataset-oriented plotting functions operate on dataframes and arrays containing whole datasets and internally perform the necessary semantic mapping and statistical aggregation to produce informative plots.\n",
    "#### *stats are imputed to use statitics function from the scipy. scipy.stats has methods trim1() and trimboth() to cut the outliers out in a single row, according to the ranking and an introduced percentage of removed values."
   ]
  },
  {
   "cell_type": "markdown",
   "metadata": {},
   "source": [
    "## Finding Outliers"
   ]
  },
  {
   "cell_type": "code",
   "execution_count": 26,
   "metadata": {},
   "outputs": [
    {
     "data": {
      "text/html": [
       "<div>\n",
       "<style scoped>\n",
       "    .dataframe tbody tr th:only-of-type {\n",
       "        vertical-align: middle;\n",
       "    }\n",
       "\n",
       "    .dataframe tbody tr th {\n",
       "        vertical-align: top;\n",
       "    }\n",
       "\n",
       "    .dataframe thead th {\n",
       "        text-align: right;\n",
       "    }\n",
       "</style>\n",
       "<table border=\"1\" class=\"dataframe\">\n",
       "  <thead>\n",
       "    <tr style=\"text-align: right;\">\n",
       "      <th></th>\n",
       "      <th>CRIM</th>\n",
       "      <th>ZN</th>\n",
       "      <th>INDUS</th>\n",
       "      <th>CHAS</th>\n",
       "      <th>NOX</th>\n",
       "      <th>RM</th>\n",
       "      <th>AGE</th>\n",
       "      <th>DIS</th>\n",
       "      <th>RAD</th>\n",
       "      <th>TAX</th>\n",
       "      <th>PTRATIO</th>\n",
       "      <th>B</th>\n",
       "      <th>LSTAT</th>\n",
       "    </tr>\n",
       "  </thead>\n",
       "  <tbody>\n",
       "    <tr>\n",
       "      <td>0</td>\n",
       "      <td>0.00632</td>\n",
       "      <td>18.0</td>\n",
       "      <td>2.31</td>\n",
       "      <td>0.0</td>\n",
       "      <td>0.538</td>\n",
       "      <td>6.575</td>\n",
       "      <td>65.2</td>\n",
       "      <td>4.0900</td>\n",
       "      <td>1.0</td>\n",
       "      <td>296.0</td>\n",
       "      <td>15.3</td>\n",
       "      <td>396.90</td>\n",
       "      <td>4.98</td>\n",
       "    </tr>\n",
       "    <tr>\n",
       "      <td>1</td>\n",
       "      <td>0.02731</td>\n",
       "      <td>0.0</td>\n",
       "      <td>7.07</td>\n",
       "      <td>0.0</td>\n",
       "      <td>0.469</td>\n",
       "      <td>6.421</td>\n",
       "      <td>78.9</td>\n",
       "      <td>4.9671</td>\n",
       "      <td>2.0</td>\n",
       "      <td>242.0</td>\n",
       "      <td>17.8</td>\n",
       "      <td>396.90</td>\n",
       "      <td>9.14</td>\n",
       "    </tr>\n",
       "    <tr>\n",
       "      <td>2</td>\n",
       "      <td>0.02729</td>\n",
       "      <td>0.0</td>\n",
       "      <td>7.07</td>\n",
       "      <td>0.0</td>\n",
       "      <td>0.469</td>\n",
       "      <td>7.185</td>\n",
       "      <td>61.1</td>\n",
       "      <td>4.9671</td>\n",
       "      <td>2.0</td>\n",
       "      <td>242.0</td>\n",
       "      <td>17.8</td>\n",
       "      <td>392.83</td>\n",
       "      <td>4.03</td>\n",
       "    </tr>\n",
       "    <tr>\n",
       "      <td>3</td>\n",
       "      <td>0.03237</td>\n",
       "      <td>0.0</td>\n",
       "      <td>2.18</td>\n",
       "      <td>0.0</td>\n",
       "      <td>0.458</td>\n",
       "      <td>6.998</td>\n",
       "      <td>45.8</td>\n",
       "      <td>6.0622</td>\n",
       "      <td>3.0</td>\n",
       "      <td>222.0</td>\n",
       "      <td>18.7</td>\n",
       "      <td>394.63</td>\n",
       "      <td>2.94</td>\n",
       "    </tr>\n",
       "    <tr>\n",
       "      <td>4</td>\n",
       "      <td>0.06905</td>\n",
       "      <td>0.0</td>\n",
       "      <td>2.18</td>\n",
       "      <td>0.0</td>\n",
       "      <td>0.458</td>\n",
       "      <td>7.147</td>\n",
       "      <td>54.2</td>\n",
       "      <td>6.0622</td>\n",
       "      <td>3.0</td>\n",
       "      <td>222.0</td>\n",
       "      <td>18.7</td>\n",
       "      <td>396.90</td>\n",
       "      <td>5.33</td>\n",
       "    </tr>\n",
       "  </tbody>\n",
       "</table>\n",
       "</div>"
      ],
      "text/plain": [
       "      CRIM    ZN  INDUS  CHAS    NOX     RM   AGE     DIS  RAD    TAX  \\\n",
       "0  0.00632  18.0   2.31   0.0  0.538  6.575  65.2  4.0900  1.0  296.0   \n",
       "1  0.02731   0.0   7.07   0.0  0.469  6.421  78.9  4.9671  2.0  242.0   \n",
       "2  0.02729   0.0   7.07   0.0  0.469  7.185  61.1  4.9671  2.0  242.0   \n",
       "3  0.03237   0.0   2.18   0.0  0.458  6.998  45.8  6.0622  3.0  222.0   \n",
       "4  0.06905   0.0   2.18   0.0  0.458  7.147  54.2  6.0622  3.0  222.0   \n",
       "\n",
       "   PTRATIO       B  LSTAT  \n",
       "0     15.3  396.90   4.98  \n",
       "1     17.8  396.90   9.14  \n",
       "2     17.8  392.83   4.03  \n",
       "3     18.7  394.63   2.94  \n",
       "4     18.7  396.90   5.33  "
      ]
     },
     "execution_count": 26,
     "metadata": {},
     "output_type": "execute_result"
    }
   ],
   "source": [
    "\n",
    "boston = load_boston()\n",
    "x = boston.data\n",
    "y = boston.target\n",
    "columns = boston.feature_names\n",
    "#create the dataframe\n",
    "boston_df = pd.DataFrame(boston.data)\n",
    "boston_df.columns = columns\n",
    "\n",
    "df_1 = boston_df.copy()\n",
    "boston_df.head()"
   ]
  },
  {
   "cell_type": "markdown",
   "metadata": {},
   "source": [
    "## Discover outliers with visualization tools\n",
    "\n",
    "### There are 4types\n",
    "#### 1. Box plot\n",
    "#### 2. Scatter plot\n",
    "#### 3. Z Score\n",
    "#### 4. IQR "
   ]
  },
  {
   "cell_type": "markdown",
   "metadata": {},
   "source": [
    "### 1. Box plot - It is a method for graphically depicting groups of numerical data through their quartiles."
   ]
  },
  {
   "cell_type": "code",
   "execution_count": 3,
   "metadata": {},
   "outputs": [
    {
     "data": {
      "text/plain": [
       "<matplotlib.axes._subplots.AxesSubplot at 0x7fa3b8367d68>"
      ]
     },
     "execution_count": 3,
     "metadata": {},
     "output_type": "execute_result"
    },
    {
     "data": {
      "image/png": "[encoded data removed]",
      "text/plain": [
       "<Figure size 432x288 with 1 Axes>"
      ]
     },
     "metadata": {
      "needs_background": "light"
     },
     "output_type": "display_data"
    }
   ],
   "source": [
    "\n",
    "sns.boxplot(x=boston_df['DIS'])\n"
   ]
  },
  {
   "cell_type": "code",
   "execution_count": 4,
   "metadata": {},
   "outputs": [
    {
     "data": {
      "text/plain": [
       "count    506.000000\n",
       "mean       3.795043\n",
       "std        2.105710\n",
       "min        1.129600\n",
       "25%        2.100175\n",
       "50%        3.207450\n",
       "75%        5.188425\n",
       "max       12.126500\n",
       "Name: DIS, dtype: float64"
      ]
     },
     "execution_count": 4,
     "metadata": {},
     "output_type": "execute_result"
    }
   ],
   "source": [
    "boston_df[\"DIS\"].describe()\n",
    " "
   ]
  },
  {
   "cell_type": "code",
   "execution_count": 5,
   "metadata": {},
   "outputs": [
    {
     "data": {
      "image/png": "[encoded data removed]",
      "text/plain": [
       "<Figure size 432x288 with 1 Axes>"
      ]
     },
     "metadata": {
      "needs_background": "light"
     },
     "output_type": "display_data"
    }
   ],
   "source": [
    "# Boxplot with all oulier values :\n",
    "\n",
    "import matplotlib.pyplot as plt\n",
    "import numpy as np\n",
    "\n",
    "# Plot for DIS from dataframe:\n",
    " \n",
    "x=boston_df['DIS']\n",
    "\n",
    "def make_labels(ax, boxplot):\n",
    "\n",
    "    # Grab the relevant Line2D instances from the boxplot dictionary\n",
    "    iqr = boxplot['boxes'][0]\n",
    "    caps = boxplot['caps']\n",
    "    med = boxplot['medians'][0]\n",
    "    fly = boxplot['fliers'][0]\n",
    "\n",
    "    # The x position of the median line\n",
    "    xpos = med.get_xdata()\n",
    "\n",
    "    # Lets make the text have a horizontal offset which is some \n",
    "    # fraction of the width of the box\n",
    "    xoff = 0.10 * (xpos[1] - xpos[0])\n",
    "\n",
    "    # The x position of the labels\n",
    "    xlabel = xpos[1] + xoff\n",
    "\n",
    "    # The median is the y-position of the median line\n",
    "    median = med.get_ydata()[1]\n",
    "\n",
    "    # The 25th and 75th percentiles are found from the\n",
    "    # top and bottom (max and min) of the box\n",
    "    pc25 = iqr.get_ydata().min()\n",
    "    pc75 = iqr.get_ydata().max()\n",
    "\n",
    "    # The caps give the vertical position of the ends of the whiskers\n",
    "    capbottom = caps[0].get_ydata()[0]\n",
    "    captop = caps[1].get_ydata()[0]\n",
    "\n",
    "    # Make some labels on the figure using the values derived above\n",
    "    ax.text(xlabel, median,\n",
    "            'Median = {:6.3g}'.format(median), va='center')     # str.format() is one of the string formatting methods in Python3\n",
    "    ax.text(xlabel, pc25,\n",
    "            '25th percentile = {:6.3g}'.format(pc25), va='center')    \n",
    "#{ } .format(value) :  Returns a formatted string with the value passed as parameter in the placeholder position.\n",
    "    \n",
    "    ax.text(xlabel, pc75,\n",
    "            '75th percentile = {:6.3g}'.format(pc75), va='center')\n",
    "    ax.text(xlabel, capbottom,\n",
    "            'Bottom cap = {:6.3g}'.format(capbottom), va='center')\n",
    "    ax.text(xlabel, captop,\n",
    "            'Top cap = {:6.3g}'.format(captop), va='center')\n",
    "\n",
    "    # Many fliers, so we loop over them and create a label for each one\n",
    "    for flier in fly.get_ydata():\n",
    "        ax.text(1 + xoff, flier,\n",
    "                'Flier = {:6.3g}'.format(flier), va='center')\n",
    "\n",
    "# Make the figure\n",
    "red_diamond = dict(markerfacecolor='r', marker='D')\n",
    "fig3, ax3 = plt.subplots()\n",
    "ax3.set_title('Changed Outlier Symbols')\n",
    "\n",
    "# Create the boxplot and store the resulting python dictionary\n",
    "my_boxes = ax3.boxplot(x, flierprops=red_diamond)\n",
    "\n",
    "# Call the function to make labels\n",
    "make_labels(ax3, my_boxes)\n",
    "plt.xlabel(\"DIS\", color = 'r')\n",
    "plt.show()"
   ]
  },
  {
   "cell_type": "code",
   "execution_count": 6,
   "metadata": {},
   "outputs": [
    {
     "data": {
      "text/plain": [
       "count    506.000000\n",
       "mean      11.136779\n",
       "std        6.860353\n",
       "min        0.460000\n",
       "25%        5.190000\n",
       "50%        9.690000\n",
       "75%       18.100000\n",
       "max       27.740000\n",
       "Name: INDUS, dtype: float64"
      ]
     },
     "execution_count": 6,
     "metadata": {},
     "output_type": "execute_result"
    }
   ],
   "source": [
    "boston_df[\"INDUS\"].describe()"
   ]
  },
  {
   "cell_type": "code",
   "execution_count": 7,
   "metadata": {},
   "outputs": [
    {
     "data": {
      "text/plain": [
       "count    506.000000\n",
       "mean     408.237154\n",
       "std      168.537116\n",
       "min      187.000000\n",
       "25%      279.000000\n",
       "50%      330.000000\n",
       "75%      666.000000\n",
       "max      711.000000\n",
       "Name: TAX, dtype: float64"
      ]
     },
     "execution_count": 7,
     "metadata": {},
     "output_type": "execute_result"
    }
   ],
   "source": [
    "boston_df['TAX'].describe()"
   ]
  },
  {
   "cell_type": "markdown",
   "metadata": {},
   "source": [
    "### 2. Scatter plot - It is a type of plot or mathematical diagram using Cartesian coordinates,to display values for typically two variables for a set of data."
   ]
  },
  {
   "cell_type": "code",
   "execution_count": 8,
   "metadata": {},
   "outputs": [
    {
     "data": {
      "image/png": "[encoded data removed]",
      "text/plain": [
       "<Figure size 432x288 with 1 Axes>"
      ]
     },
     "metadata": {
      "needs_background": "light"
     },
     "output_type": "display_data"
    }
   ],
   "source": [
    "# sactter plot wih values:\n",
    "x = boston_df[\"INDUS\"]\n",
    "y = boston_df[\"TAX\"]\n",
    "n = boston_df[\"TAX\"]\n",
    "\n",
    "fig, ax = plt.subplots()\n",
    "ax.scatter(x, y)\n",
    "\n",
    "for i, txt in enumerate(n):\n",
    "    ax.annotate(txt, (x[i], y[i]))\n",
    " "
   ]
  },
  {
   "cell_type": "code",
   "execution_count": 9,
   "metadata": {},
   "outputs": [
    {
     "data": {
      "image/png": "[encoded data removed]",
      "text/plain": [
       "<Figure size 432x288 with 1 Axes>"
      ]
     },
     "metadata": {
      "needs_background": "light"
     },
     "output_type": "display_data"
    }
   ],
   "source": [
    "# Discover outliers with mathematical function for multiple variables.\n",
    " \n",
    "import pandas as pd\n",
    "import matplotlib.pyplot as plt\n",
    "import numpy as np\n",
    "\n",
    "x = np.array(boston_df[\"TAX\"])\n",
    "a = np.array(boston_df[\"INDUS\"])\n",
    "b = np.array(boston_df[\"LSTAT\"])\n",
    "c = np.array(boston_df[\"DIS\"])\n",
    "d = np.array(boston_df[\"NOX\"])\n",
    "\n",
    "df = pd.DataFrame({\"x\":x, \"a\":a, \"b\":b, \"c\":c, \"d\":d})\n",
    "\n",
    "\n",
    "ax = df.plot(kind=\"scatter\", x=\"x\",y=\"a\", color=\"b\", label=\"INDUS vs.TAX\")\n",
    "df.plot(x=\"x\",y=\"b\", color=\"r\", label=\"LSTAT vs.TAX\", ax=ax)\n",
    "df.plot( x=\"x\",y=\"c\", color=\"g\", label=\"DIS vs.TAX\", ax=ax)\n",
    "df.plot( x=\"d\",y=\"x\", color=\"orange\", label=\"NOX vs.TAX\", ax=ax)\n",
    "# df.plot( x=\"a\",y=\"x\", color=\"purple\", label=\"INDUS vs.TAX\", ax=ax)\n",
    "\n",
    "ax.set_xlabel(\"horizontal label\")\n",
    "ax.set_ylabel(\"vertical label\")\n",
    "plt.show()\n",
    "             "
   ]
  },
  {
   "cell_type": "markdown",
   "metadata": {},
   "source": [
    "### 3. Z-Score- This is the signed number of standard deviations, by which the value of an observation or data point is above the mean value of what is being observed or measured."
   ]
  },
  {
   "cell_type": "code",
   "execution_count": 10,
   "metadata": {},
   "outputs": [
    {
     "name": "stdout",
     "output_type": "stream",
     "text": [
      "[[0.41978194 0.28482986 1.2879095  ... 1.45900038 0.44105193 1.0755623 ]\n",
      " [0.41733926 0.48772236 0.59338101 ... 0.30309415 0.44105193 0.49243937]\n",
      " [0.41734159 0.48772236 0.59338101 ... 0.30309415 0.39642699 1.2087274 ]\n",
      " ...\n",
      " [0.41344658 0.48772236 0.11573841 ... 1.17646583 0.44105193 0.98304761]\n",
      " [0.40776407 0.48772236 0.11573841 ... 1.17646583 0.4032249  0.86530163]\n",
      " [0.41500016 0.48772236 0.11573841 ... 1.17646583 0.44105193 0.66905833]]\n"
     ]
    }
   ],
   "source": [
    "\n",
    "z = np.abs(stats.zscore(boston_df))\n",
    "print(z)\n"
   ]
  },
  {
   "cell_type": "code",
   "execution_count": null,
   "metadata": {},
   "outputs": [],
   "source": []
  },
  {
   "cell_type": "markdown",
   "metadata": {},
   "source": [
    "##### Looking the code and the output above, it is difficult to say which data point is an outlier. Let’s try and define a threshold to identify an outlier.\n"
   ]
  },
  {
   "cell_type": "code",
   "execution_count": 11,
   "metadata": {},
   "outputs": [
    {
     "name": "stdout",
     "output_type": "stream",
     "text": [
      "(array([ 55,  56,  57, 102, 141, 142, 152, 154, 155, 160, 162, 163, 199,\n",
      "       200, 201, 202, 203, 204, 208, 209, 210, 211, 212, 216, 218, 219,\n",
      "       220, 221, 222, 225, 234, 236, 256, 257, 262, 269, 273, 274, 276,\n",
      "       277, 282, 283, 283, 284, 347, 351, 352, 353, 353, 354, 355, 356,\n",
      "       357, 358, 363, 364, 364, 365, 367, 369, 370, 372, 373, 374, 374,\n",
      "       380, 398, 404, 405, 406, 410, 410, 411, 412, 412, 414, 414, 415,\n",
      "       416, 418, 418, 419, 423, 424, 425, 426, 427, 427, 429, 431, 436,\n",
      "       437, 438, 445, 450, 454, 455, 456, 457, 466]), array([ 1,  1,  1, 11, 12,  3,  3,  3,  3,  3,  3,  3,  1,  1,  1,  1,  1,\n",
      "        1,  3,  3,  3,  3,  3,  3,  3,  3,  3,  3,  3,  5,  3,  3,  1,  5,\n",
      "        5,  3,  3,  3,  3,  3,  3,  1,  3,  1,  1,  7,  7,  1,  7,  7,  7,\n",
      "        3,  3,  3,  3,  3,  5,  5,  5,  3,  3,  3, 12,  5, 12,  0,  0,  0,\n",
      "        0,  5,  0, 11, 11, 11, 12,  0, 12, 11, 11,  0, 11, 11, 11, 11, 11,\n",
      "       11,  0, 11, 11, 11, 11, 11, 11, 11, 11, 11, 11, 11, 11, 11]))\n"
     ]
    }
   ],
   "source": [
    "cols = list(boston_df.columns)\n",
    "#print(cols)\n",
    "threshold = 3\n",
    "new = (np.where(z > 3))\n",
    "print(new)"
   ]
  },
  {
   "cell_type": "code",
   "execution_count": 12,
   "metadata": {},
   "outputs": [
    {
     "name": "stdout",
     "output_type": "stream",
     "text": [
      "3.375038763517309\n"
     ]
    }
   ],
   "source": [
    "print(z[new[0][0]][new[1][0]])"
   ]
  },
  {
   "cell_type": "code",
   "execution_count": 13,
   "metadata": {},
   "outputs": [
    {
     "name": "stdout",
     "output_type": "stream",
     "text": [
      "3.375038763517309\n",
      "3.1604409230624513\n",
      "3.8042344444270246\n",
      "3.134425327914092\n",
      "3.049752140105825\n",
      "3.668397859712425\n",
      "3.668397859712425\n",
      "3.668397859712425\n",
      "3.668397859712425\n",
      "3.668397859712425\n",
      "3.668397859712425\n",
      "3.668397859712425\n",
      "3.5896366039721666\n",
      "3.5896366039721666\n",
      "3.0531420028350222\n",
      "3.0531420028350222\n",
      "3.5896366039721666\n",
      "3.5896366039721666\n",
      "3.668397859712425\n",
      "3.668397859712425\n",
      "3.668397859712425\n",
      "3.668397859712425\n",
      "3.668397859712425\n",
      "3.668397859712425\n",
      "3.668397859712425\n",
      "3.668397859712425\n",
      "3.668397859712425\n",
      "3.668397859712425\n",
      "3.668397859712425\n",
      "3.4766880429269436\n",
      "3.668397859712425\n",
      "3.668397859712425\n",
      "3.375038763517309\n",
      "3.4467702107287455\n",
      "3.010824655840693\n",
      "3.668397859712425\n",
      "3.668397859712425\n",
      "3.668397859712425\n",
      "3.668397859712425\n",
      "3.668397859712425\n",
      "3.668397859712425\n",
      "3.375038763517309\n",
      "3.668397859712425\n",
      "3.375038763517309\n",
      "3.1604409230624513\n",
      "3.287299912742109\n",
      "3.287299912742109\n",
      "3.375038763517309\n",
      "3.9605176870361265\n",
      "3.228068918054187\n",
      "3.228068918054187\n",
      "3.668397859712425\n",
      "3.668397859712425\n",
      "3.668397859712425\n",
      "3.668397859712425\n",
      "3.668397859712425\n",
      "3.5550442701127043\n",
      "3.8802493604779498\n",
      "3.4500024402943175\n",
      "3.668397859712425\n",
      "3.668397859712425\n",
      "3.668397859712425\n",
      "3.100214702120183\n",
      "3.0582213043655133\n",
      "3.5487708089144676\n",
      "9.933930601860268\n",
      "4.042605524928547\n",
      "4.412369834222936\n",
      "7.483645639967818\n",
      "3.0582213043655133\n",
      "5.530320930612271\n",
      "3.882194567924952\n",
      "3.5264011392101073\n",
      "3.5950380225307526\n",
      "3.0441451887708966\n",
      "4.9031041188152145\n",
      "3.4099987633749853\n",
      "3.6119231344019656\n",
      "3.674200689875011\n",
      "8.136883506576426\n",
      "3.730338204667615\n",
      "3.379478737213839\n",
      "3.883071716593587\n",
      "3.8706819916491253\n",
      "3.8264956274666653\n",
      "3.6404304661325853\n",
      "3.9623196317510443\n",
      "3.7043526753593197\n",
      "3.2449460601620315\n",
      "3.0189706344050844\n",
      "3.609291688396062\n",
      "3.8085140797596595\n",
      "3.154709390876264\n",
      "3.4385766287630846\n",
      "3.9071933049810337\n",
      "3.8374599858245957\n",
      "3.3523967720697505\n",
      "3.7957954240644596\n",
      "3.872326645402815\n",
      "3.6693763721975214\n"
     ]
    }
   ],
   "source": [
    "# to get all oulier with values :\n",
    "for i in range(0,len(new[0])):\n",
    "    print(z[new[0][i]][new[1][i]])"
   ]
  },
  {
   "cell_type": "markdown",
   "metadata": {},
   "source": [
    "##### Don’t be confused by the results. The first array contains the list of row numbers and second array respective column numbers, which mean z[55][1] have a Z-score higher than 3."
   ]
  },
  {
   "cell_type": "code",
   "execution_count": 14,
   "metadata": {},
   "outputs": [
    {
     "name": "stdout",
     "output_type": "stream",
     "text": [
      "3.375038763517309\n"
     ]
    }
   ],
   "source": [
    "print(z[55][1])"
   ]
  },
  {
   "cell_type": "markdown",
   "metadata": {},
   "source": [
    "### 4. IQR score - (Inter Quartile Range) - Box plot use the IQR method to display data and outliers(shape of the data) but in order to be get a list of identified outlier, this is need to use the mathematical formula and retrieve the outlier data."
   ]
  },
  {
   "cell_type": "markdown",
   "metadata": {},
   "source": [
    "#### IQR = Q3 − Q1"
   ]
  },
  {
   "cell_type": "markdown",
   "metadata": {},
   "source": [
    "##### As we now have the IQR scores, it’s time to get hold on outliers. The below code will give an output with some true and false values. The data point where we have False that means these values are valid whereas True indicates presence of an outlier."
   ]
  },
  {
   "cell_type": "code",
   "execution_count": 15,
   "metadata": {},
   "outputs": [
    {
     "name": "stdout",
     "output_type": "stream",
     "text": [
      "CRIM         3.595038\n",
      "ZN          12.500000\n",
      "INDUS       12.910000\n",
      "CHAS         0.000000\n",
      "NOX          0.175000\n",
      "RM           0.738000\n",
      "AGE         49.050000\n",
      "DIS          3.088250\n",
      "RAD         20.000000\n",
      "TAX        387.000000\n",
      "PTRATIO      2.800000\n",
      "B           20.847500\n",
      "LSTAT       10.005000\n",
      "dtype: float64\n"
     ]
    }
   ],
   "source": [
    " \n",
    "Q1 = df_1.quantile(0.25)\n",
    "Q3 = df_1.quantile(0.75)\n",
    "IQR = Q3 - Q1\n",
    "print(IQR)"
   ]
  },
  {
   "cell_type": "code",
   "execution_count": 16,
   "metadata": {},
   "outputs": [
    {
     "name": "stdout",
     "output_type": "stream",
     "text": [
      "('25 %:', CRIM         0.082045\n",
      "ZN           0.000000\n",
      "INDUS        5.190000\n",
      "CHAS         0.000000\n",
      "NOX          0.449000\n",
      "RM           5.885500\n",
      "AGE         45.025000\n",
      "DIS          2.100175\n",
      "RAD          4.000000\n",
      "TAX        279.000000\n",
      "PTRATIO     17.400000\n",
      "B          375.377500\n",
      "LSTAT        6.950000\n",
      "Name: 0.25, dtype: float64) ('75%:', CRIM         3.677083\n",
      "ZN          12.500000\n",
      "INDUS       18.100000\n",
      "CHAS         0.000000\n",
      "NOX          0.624000\n",
      "RM           6.623500\n",
      "AGE         94.075000\n",
      "DIS          5.188425\n",
      "RAD         24.000000\n",
      "TAX        666.000000\n",
      "PTRATIO     20.200000\n",
      "B          396.225000\n",
      "LSTAT       16.955000\n",
      "Name: 0.75, dtype: float64)\n"
     ]
    }
   ],
   "source": [
    "print((\"25 %:\",Q1),(\"75%:\",Q3))"
   ]
  },
  {
   "cell_type": "code",
   "execution_count": 17,
   "metadata": {},
   "outputs": [
    {
     "name": "stdout",
     "output_type": "stream",
     "text": [
      "('lower :', CRIM        -5.310511\n",
      "ZN         -18.750000\n",
      "INDUS      -14.175000\n",
      "CHAS         0.000000\n",
      "NOX          0.186500\n",
      "RM           4.778500\n",
      "AGE        -28.550000\n",
      "DIS         -2.532200\n",
      "RAD        -26.000000\n",
      "TAX       -301.500000\n",
      "PTRATIO     13.200000\n",
      "B          344.106250\n",
      "LSTAT       -8.057500\n",
      "dtype: float64) upper: CRIM          9.069639\n",
      "ZN           31.250000\n",
      "INDUS        37.465000\n",
      "CHAS          0.000000\n",
      "NOX           0.886500\n",
      "RM            7.730500\n",
      "AGE         167.650000\n",
      "DIS           9.820800\n",
      "RAD          54.000000\n",
      "TAX        1246.500000\n",
      "PTRATIO      24.400000\n",
      "B           427.496250\n",
      "LSTAT        31.962500\n",
      "dtype: float64\n"
     ]
    }
   ],
   "source": [
    "# calculate the outlier cutoff\n",
    "cut_off = IQR * 1.5\n",
    "lower = Q1 - cut_off\n",
    "upper = Q3 + cut_off\n",
    "print((\"lower :\",lower), \"upper:\",upper)"
   ]
  },
  {
   "cell_type": "code",
   "execution_count": 18,
   "metadata": {},
   "outputs": [
    {
     "name": "stdout",
     "output_type": "stream",
     "text": [
      "      CRIM     ZN  INDUS   CHAS    NOX     RM    AGE    DIS    RAD    TAX  \\\n",
      "0    False  False  False  False  False  False  False  False  False  False   \n",
      "1    False  False  False  False  False  False  False  False  False  False   \n",
      "2    False  False  False  False  False  False  False  False  False  False   \n",
      "3    False  False  False  False  False  False  False  False  False  False   \n",
      "4    False  False  False  False  False  False  False  False  False  False   \n",
      "..     ...    ...    ...    ...    ...    ...    ...    ...    ...    ...   \n",
      "501  False  False  False  False  False  False  False  False  False  False   \n",
      "502  False  False  False  False  False  False  False  False  False  False   \n",
      "503  False  False  False  False  False  False  False  False  False  False   \n",
      "504  False  False  False  False  False  False  False  False  False  False   \n",
      "505  False  False  False  False  False  False  False  False  False  False   \n",
      "\n",
      "     PTRATIO      B  LSTAT  \n",
      "0      False  False  False  \n",
      "1      False  False  False  \n",
      "2      False  False  False  \n",
      "3      False  False  False  \n",
      "4      False  False  False  \n",
      "..       ...    ...    ...  \n",
      "501    False  False  False  \n",
      "502    False  False  False  \n",
      "503    False  False  False  \n",
      "504    False  False  False  \n",
      "505    False  False  False  \n",
      "\n",
      "[506 rows x 13 columns]\n"
     ]
    }
   ],
   "source": [
    "boston_df = (boston_df < (Q1 - 1.5 * IQR)) |(boston_df > (Q3 + 1.5 * IQR))\n",
    "print(boston_df)"
   ]
  },
  {
   "cell_type": "code",
   "execution_count": 19,
   "metadata": {},
   "outputs": [
    {
     "name": "stdout",
     "output_type": "stream",
     "text": [
      "CRIM [13.5222, 9.2323, 11.1081, 18.4982, 19.6091, 15.288, 9.82349, 23.6482, 17.8667, 88.9762, 15.8744, 9.18702, 20.0849, 16.8118, 24.3938, 22.5971, 14.3337, 11.5779, 13.3598, 38.3518, 9.91655, 25.0461, 14.2362, 9.59571, 24.8017, 41.5292, 67.9208, 20.7162, 11.9511, 14.4383, 51.1358, 14.0507, 18.811, 28.6558, 45.7461, 18.0846, 10.8342, 25.9406, 73.5341, 11.8123, 11.0874, 12.0482, 15.8603, 12.2472, 37.6619, 9.33889, 10.0623, 13.9134, 11.1604, 14.4208, 15.1772, 13.6781, 9.39063, 22.0511, 9.72418, 9.96654, 12.8023, 10.6718, 9.92485, 9.32909, 9.51363, 15.5757, 13.0751, 15.0234, 10.233, 14.3337]\n",
      "ZN [75.0, 75.0, 75.0, 90.0, 85.0, 100.0, 80.0, 80.0, 45.0, 45.0, 45.0, 45.0, 45.0, 45.0, 60.0, 60.0, 80.0, 80.0, 80.0, 80.0, 95.0, 95.0, 82.5, 82.5, 95.0, 95.0, 80.0, 80.0, 90.0, 40.0, 40.0, 40.0, 40.0, 40.0, 90.0, 90.0, 55.0, 80.0, 52.5, 52.5, 52.5, 80.0, 80.0, 80.0, 70.0, 70.0, 70.0, 34.0, 34.0, 34.0, 33.0, 33.0, 33.0, 33.0, 35.0, 35.0, 35.0, 55.0, 55.0, 85.0, 80.0, 40.0, 40.0, 60.0, 60.0, 90.0, 80.0, 80.0]\n",
      "INDUS []\n",
      "CHAS [1.0, 1.0, 1.0, 1.0, 1.0, 1.0, 1.0, 1.0, 1.0, 1.0, 1.0, 1.0, 1.0, 1.0, 1.0, 1.0, 1.0, 1.0, 1.0, 1.0, 1.0, 1.0, 1.0, 1.0, 1.0, 1.0, 1.0, 1.0, 1.0, 1.0, 1.0, 1.0, 1.0, 1.0, 1.0]\n",
      "NOX []\n",
      "RM [8.069, 7.82, 7.802, 8.375, 7.929, 7.765, 7.831, 7.875, 7.853, 8.034, 8.266, 8.725, 8.04, 8.337, 8.247, 8.259, 8.704, 8.398, 8.297, 7.82, 7.923, 8.78, 3.561, 3.863, 4.138, 4.368, 4.652, 4.138, 4.628, 4.519]\n",
      "AGE []\n",
      "DIS [10.7103, 10.7103, 12.1265, 10.5857, 10.5857]\n",
      "RAD []\n",
      "TAX []\n",
      "PTRATIO [12.6, 12.6, 12.6, 13.0, 13.0, 13.0, 13.0, 13.0, 13.0, 13.0, 13.0, 13.0, 13.0, 13.0, 13.0]\n",
      "B [288.99, 303.42, 306.38, 232.6, 248.31, 70.8, 338.63, 262.76, 172.91, 169.27, 341.6, 343.28, 261.95, 321.02, 88.01, 88.63, 338.92, 240.16, 227.61, 297.09, 330.04, 292.29, 341.6, 316.03, 131.42, 285.83, 338.16, 329.46, 332.09, 314.64, 179.36, 2.6, 35.05, 28.79, 210.97, 88.27, 27.25, 21.57, 127.36, 16.45, 48.45, 318.75, 319.98, 291.55, 2.52, 3.65, 7.68, 24.65, 18.82, 96.73, 60.72, 83.45, 81.33, 97.95, 100.19, 100.63, 109.85, 27.49, 9.32, 68.95, 240.52, 43.06, 318.01, 304.21, 0.32, 6.68, 50.92, 10.48, 3.5, 272.21, 255.23, 334.4, 22.01, 331.29, 302.76, 344.05, 318.43]\n",
      "LSTAT [34.41, 34.77, 37.97, 31.99, 34.37, 36.98, 34.02]\n"
     ]
    }
   ],
   "source": [
    "for x in boston_df:\n",
    "    cow = []\n",
    "    for i in range(0, len(boston_df[x])):\n",
    "        if boston_df[x][i]==True:\n",
    "            cow.append(df_1[x][i])\n",
    "    print(x,cow)\n",
    "    "
   ]
  },
  {
   "cell_type": "markdown",
   "metadata": {},
   "source": [
    "## Working with Outliers: Correcting, Removing"
   ]
  },
  {
   "cell_type": "markdown",
   "metadata": {},
   "source": [
    "#### previously Z-score has done one can detect the outlier using Z-score but now we need to remove or filter the outliers and get the clean data."
   ]
  },
  {
   "cell_type": "code",
   "execution_count": 20,
   "metadata": {},
   "outputs": [
    {
     "data": {
      "text/plain": [
       "(415, 13)"
      ]
     },
     "execution_count": 20,
     "metadata": {},
     "output_type": "execute_result"
    }
   ],
   "source": [
    "\n",
    "boston_df_o = boston_df[(z < 3).all(axis=1)]\n",
    "boston_df_o.shape\n",
    "\n"
   ]
  },
  {
   "cell_type": "markdown",
   "metadata": {},
   "source": [
    "#### IQR Score - Just like Z-score we can use previously calculated IQR score to filter out the outliers by keeping only valid values."
   ]
  },
  {
   "cell_type": "code",
   "execution_count": 21,
   "metadata": {},
   "outputs": [
    {
     "data": {
      "text/plain": [
       "(0, 13)"
      ]
     },
     "execution_count": 21,
     "metadata": {},
     "output_type": "execute_result"
    }
   ],
   "source": [
    " \n",
    "boston_df_out = boston_df[~((boston_df < (Q1 - 1.5 * IQR)) |(boston_df > (Q3 + 1.5 * IQR))).any(axis=1)]\n",
    "boston_df_out.shape\n",
    "# The above code will remove the outliers from the dataset"
   ]
  },
  {
   "cell_type": "markdown",
   "metadata": {},
   "source": [
    "* NOTE : 'Outlier' is a convenient term for collecting data together that doesn't fit what you expect your process to look like, in order to remove from the analysis.\n",
    "\n",
    "* But to remove ouliers always is not a  good option.When we deal with large volumes of automatically generated time-series data which is processed using a run chart / moving box plot / etc. depending on the data and distribution on which we are working ,wether to delete or keep the outliers."
   ]
  },
  {
   "cell_type": "markdown",
   "metadata": {},
   "source": [
    "## Summary:\n",
    "\n",
    "### OUTLIER : An Outlier is a data point that differs significantly from other observations. It may be due to variability in the measurement or it may indicate experimental error; the latter are sometimes excluded from the data set. It can cause serious problems in statistical analyses.\n",
    "\n",
    "### Outlier can be of two types: Univariate and Multivariate.univariate outlier:These outliers can be found when we look at distribution of a single variable. Multi-variate outliers : are outliers in an n-dimensional space. In order to find them, you have to look at distributions in multi-dimensions.\n",
    "* To detect Univariate outliers we generally use :1)Box plo 2) Z- scores (parametric),3)IQR methods, \n",
    "* To detect Multivariate ouliers we prefer :1) Isolation Forest 2) Eliptic Envelope 3)LocalOutlier factor 4)\n",
    "## What causes Outliers?\n",
    "\n",
    "* Artificial (Error) / Non-natural\n",
    "*  Natural.\n",
    "\n",
    "## What is the impact of Outliers on a dataset?\n",
    "#### Outliers can drastically change the results of the data analysis and statistical modeling. There are numerous unfavourable impacts of outliers in the data set:\n",
    "* It increases the error variance and reduces the power of statistical tests\n",
    "* If the outliers are non-randomly distributed, they can decrease normality\n",
    "\n",
    "* Most commonly used method to detect outliers is visualization. We use various visualization methods, like Box-plot, Histogram, Scatter Plot.\n",
    "\n",
    "## 1) Box plot using seaborn Library:\n",
    "\n",
    "* Bottom black horizontal line of blue box plot is minimum value\n",
    "* First black horizontal line of rectangle shape of blue box plot is First quartile or 25%\n",
    "* Second black horizontal line of rectangle shape of blue box plot is Second quartile or 50% or median.\n",
    "* Third black horizontal line of rectangle shape of blue box plot is third quartile or 75%\n",
    "* Top black horizontal line of rectangle shape of blue box plot is maximum value.\n",
    "* Small diamond shape of blue box plot is outlier data or erroneous data.\n",
    "## 2) The Z-score is the signed number of standard deviations by which the value of an observation or data point is above the mean value of what is being observed or measured.\n",
    "* Formula for Z score = (Observation — Mean)/Standard Deviation\n",
    "#### z = (X — μ) / σ\n",
    "\n",
    "## 3) IQR method to display data and outliers(shape of the data) but in order to be get a list of identified outlier, we will need to use the mathematical formula and retrieve the outlier data.\n",
    "* The interquartile range (IQR), also called the midspread or middle 50%, or technically H-spread, is a measure of statistical dispersion, being equal to the difference between 75th and 25th percentiles, or between upper and lower quartiles, IQR = Q3 − Q1.\n",
    "* IQR usually identifies outliers with their deviations when expressed in a box plot. Observations below Q1- 1.5 IQR, or those above Q3 + 1.5IQR (note that the sum of the IQR is always 4) are defined as outliers.\n",
    "\n",
    "## Code Used :\n",
    "#### * boston = load_boston() : to load the data from the library.\n",
    "#### * sns.boxplot(x=boston_df['DIS']) : this command is used for depicting grops of numerical data in box plot.\n",
    "#### * ax = plt.subplots(figsize=(16,8)) : it is used to mention size of figure.\n",
    "#### * plt.scatter(,) : this is used to plot graph in scatter plot/ style.\n",
    "#### * z = np.abs(stats.zscore(DataFrame)) : This is signed number of standard deviations, by which the value of an observation above the mean value of being observed.\n",
    "#### * In Z-Score plot we use threshold, to identify outlier easily.\n",
    "#### * Assuming Q1 and Q3 = boston_df.quantile(0.25 and 0.75) to find the IQR.\n",
    "#### * boston_df = (boston_df < (Q1 - 1.5 * IQR)) |(boston_df > (Q3 + 1.5 * IQR)) : In this method it presents true and false values of data, if it is true  then there is an outlier.\n",
    "#### * botson_df_o = boston_df[(z<3).all(axis=1)] : used to detect outliers and remove them.\n",
    "#### * boston_df_out = boston_df[~((boston_df,(Q1-1.5*IQR))|(boston_df>(Q3+1.5*IQR))).any(axis=1)] : It is used to keep only valid values of the data.\n",
    "#### * boston_df_o.shape : Is to mention the size of outliers as array"
   ]
  }
 ],
 "metadata": {
  "kernelspec": {
   "display_name": "Python 3",
   "language": "python",
   "name": "python3"
  },
  "language_info": {
   "codemirror_mode": {
    "name": "ipython",
    "version": 3
   },
   "file_extension": ".py",
   "mimetype": "text/x-python",
   "name": "python",
   "nbconvert_exporter": "python",
   "pygments_lexer": "ipython3",
   "version": "3.7.3"
  }
 },
 "nbformat": 4,
 "nbformat_minor": 2
}
