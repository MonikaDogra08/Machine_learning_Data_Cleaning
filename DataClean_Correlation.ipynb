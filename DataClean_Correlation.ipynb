{
 "cells": [
  {
   "cell_type": "markdown",
   "metadata": {},
   "source": [
    "# CORRELATION\n",
    "## Description: code for different methods of correlation\n",
    "### Reference: www.kaggle.com\n",
    "### Link: https://www.datascience.com/blog/introduction-to-correlation-learn-data-science-tutorials\n",
    "#### Author: Sravani.G and Monika Dogra\n",
    "#### Revision: 1\n",
    "#### Date: 29 Aug 2019"
   ]
  },
  {
   "cell_type": "markdown",
   "metadata": {},
   "source": [
    "# What is Correlation?\n",
    "\n",
    "A correlation could be positive, meaning both variables move in the same direction, or negative, meaning that when one variable’s value increases, the other variables’ values decrease. Correlation can also be neural or zero, meaning that the variables are unrelated.\n",
    "\n",
    "* Positive Correlation: both variables change in the same direction.\n",
    "* Neutral Correlation: No relationship in the change of the variables.\n",
    "* Negative Correlation: variables change in opposite directions\n",
    "    \n",
    "* The value of correlation takes place between -1 and +1.   \n",
    "\n",
    "#### Covariance Vs Correlation:. Correlation is when the change in one item may result in the change in the another item. On the other hand, covariance is when two items vary together. \n",
    "Key Differences Between Covariance and Correlation\n",
    "\n",
    "The following points are noteworthy so far as the difference between covariance and correlation is concerned:\n",
    "\n",
    "    A measure used to indicate the extent to which two random variables change in tandem is known as covariance. A measure used to represent how strongly two random variables are related known as correlation.\n",
    "    Covariance is nothing but a measure of correlation. On the contrary, correlation refers to the scaled form of covariance.\n",
    "    .\n",
    "    The value of correlation takes place between -1 and +1. Conversely, the value of covariance lies between -∞ and +∞.\n",
    "    Covariance is affected by the change in scale, i.e. if all the value of one variable is multiplied by a constant and all the value of another variable are multiplied, by a similar or different constant, then the covariance is changed. As against this, correlation is not influenced by the change in scale.\n",
    "    Correlation is dimensionless, i.e. it is a unit-free measure of the relationship between variables. Unlike covariance, where the value is obtained by the product of the units of the two variables.\n",
    "\n",
    "\n",
    "### Conclusion :\n",
    "\n",
    "Both measures only linear relationship between two variables, i.e. when the correlation coefficient is zero, covariance is also zero. Further, the two measures are unaffected by the change in location.\n",
    "\n",
    "Correlation is a special case of covariance which can be obtained when the data is standardized. Now, when it comes to making a choice, which is a better measure of the relationship between two variables, correlation is preferred over covariance, because it remains unaffected by the change in location and scale, and can also be used to make a comparison between two pairs of variables.\n",
    "\n",
    "## How to calculate correlation by using different methods:\n",
    "\n",
    "## 1.  Pearson’s Correlation\n",
    "\n",
    "The Pearson correlation coefficient (named for Karl Pearson) can be used to summarize the strength of the linear relationship between two data samples.\n",
    "\n",
    "The Pearson’s correlation coefficient is calculated as the covariance of the two variables divided by the product of the standard deviation of each data sample. It is the normalization of the covariance between the two variables to give an interpretable score.\n",
    "\n",
    "\n",
    "#### Pearson's correlation coefficient = covariance(X, Y) / (stdv(X) * stdv(Y))\n",
    "\n",
    "The use of mean and standard deviation in the calculation suggests the need for the two data samples to have a Gaussian or Gaussian-like distribution.\n",
    "\n",
    "The result of the calculation, the correlation coefficient can be interpreted to understand the relationship.\n",
    "\n",
    "The coefficient returns a value between -1 and 1 that represents the limits of correlation from a full negative correlation to a full positive correlation. A value of 0 means no correlation. The value must be interpreted, where often a value below -0.5 or above 0.5 indicates a notable correlation, and values below those values suggests a less notable correlation.\n",
    "\n",
    "## 2.  Spearman’s Correlation\n",
    "\n",
    "\n",
    "Two variables may be related by a nonlinear relationship, such that the relationship is stronger or weaker across the distribution of the variables.\n",
    "\n",
    "Further, the two variables being considered may have a non-Gaussian distribution.Instead of calculating the coefficient using covariance and standard deviations on the samples themselves, these statistics are calculated from the relative rank of values on each sample. This is a common approach used in non-parametric statistics, e.g. statistical methods where we do not assume a distribution of the data such as Gaussian.\n",
    "\n",
    "In this case, the Spearman’s correlation coefficient (named for Charles Spearman) can be used to summarize the strength between the two data samples. This test of relationship can also be used if there is a linear relationship between the variables, but will have slightly less power (e.g. may result in lower coefficient scores).\n",
    "\n",
    "As with the Pearson correlation coefficient, the scores are between -1 and 1 for perfectly negatively correlated variables and perfectly positively correlated respectively.\n",
    "\n",
    "\t\n",
    "#### Spearman's correlation coefficient = covariance(rank(X), rank(Y)) / (stdv(rank(X)) * stdv(rank(Y)))\n",
    "\n",
    "A linear relationship between the variables is not assumed, although a monotonic relationship is assumed. This is a mathematical name for an increasing or decreasing relationship between the two variables.\n",
    "\n",
    "If you are unsure of the distribution and possible relationships between two variables, Spearman correlation coefficient is a good tool to use. \n",
    "\n",
    "Unlike Pearson, Spearman's correlation is not restricted to linear relationships. Instead, it measures monotonic association (only strictly increasing or decreasing, but not mixed) between two variables and relies on the rank order of values.This makes it appropriate to use with both continuous and discrete data.\n",
    "\n",
    "\n",
    "## 3. Kendall’s Tau (Kendall Rank Correlation Coefficient) :\n",
    "Kendall’s Tau and Spearman’s rank correlation coefficient  assess statistical associations based on the ranks of the data.  Ranking data is carried out on the variables that are separately put in order and are numbered.\n",
    "\n",
    "Kendall’s Tau is a non-parametric measure of relationships between columns of ranked data. The Tau correlation coefficient returns a value of 0 to 1, where:\n",
    "\n",
    "    0 is no relationship,\n",
    "    1 is a perfect relationship.\n",
    "\n",
    "A coefficient use to show the concordance and decordance between to columns of ranks data.\n",
    "A quirk of this test is that it can also produce negative values (i.e. from -1 to 0). Unlike a linear graph, a negative relationship doesn’t mean much with ranked columns (other than you perhaps switched the columns around), so just remove the negative sign when you’re interpreting Tau.\n",
    "\n",
    "Several version’s of Tau exist.\n",
    "\n",
    "    Tau-A and Tau-B are usually used for square tables (with equal columns and rows). Tau-B will adjust for tied ranks.\n",
    "    Tau-C is usually used for rectangular tables. For square tables, Tau-B and Tau-C are essentially the same.\n",
    "\n",
    "Most statistical packages have Tau-B built in, but you can use the following formula to calculate it by hand:\n",
    "\n",
    "#### Kendall’s Tau = (C – D / C + D)\n",
    "\n",
    "Where C is the number of concordant pairs and D is the number of discordant pairs. \n",
    "\n",
    "## Note:\n",
    "#### * Spearman's rho can detect extrame rank deviation and easy to calculate as compared to kendall's tau.\n",
    "\n"
   ]
  },
  {
   "cell_type": "markdown",
   "metadata": {},
   "source": [
    "## Import Libraries"
   ]
  },
  {
   "cell_type": "code",
   "execution_count": 21,
   "metadata": {},
   "outputs": [],
   "source": [
    "# importing libraries \n",
    "import pandas as pd \n",
    "import numpy as np\n",
    "import matplotlib.pyplot as plt\n",
    "import seaborn as sns"
   ]
  },
  {
   "cell_type": "markdown",
   "metadata": {},
   "source": [
    "### * matplotlib.pyplot is a library which we used for plotting graphs in bar, scatter or in different various types as mutliple or single columns of x and y axis\n",
    "### * seaborn is a library based on matplotlib. It provides a high-level interface for drawing attractive and informative statistical graphics"
   ]
  },
  {
   "cell_type": "markdown",
   "metadata": {},
   "source": [
    "## Data Set"
   ]
  },
  {
   "cell_type": "code",
   "execution_count": 22,
   "metadata": {},
   "outputs": [
    {
     "name": "stdout",
     "output_type": "stream",
     "text": [
      "            Name            Team  Number Position   Age Height  Weight  \\\n",
      "0  Avery Bardley  Boston Celtics     0.0       PG  25.0    6-2   180.0   \n",
      "1    Jea Crowder  Boston Celtics    99.0       SF  25.0    6-6   235.0   \n",
      "2   John Holland  Boston Celtics    30.0       SG  27.0    6-5   205.0   \n",
      "3     R.J.Hunter  Boston Celtics    28.0       SG  22.0    6-5   185.0   \n",
      "4  Jonas Jerebko  Boston Celtics     8.0       PF  29.0   6-10   231.0   \n",
      "5   Amir Johnson  Boston Celtics    90.0       PF  29.0    6-9   240.0   \n",
      "6  Jordan Mickey  Boston Celtics    55.0       PF  21.0    6-8   235.0   \n",
      "7   Kelly Olynyk  Boston Celtics    41.0        C  25.0    7-0   238.0   \n",
      "8   Terry Rozier  Boston Celtics    12.0       PG  22.0    6-2   190.0   \n",
      "9   Marcus Smart  Boston Celtics    36.0       PG  22.0    6-4   220.0   \n",
      "\n",
      "             College      Salary  \n",
      "0              Texas   7730337.0  \n",
      "1          Marquette   6796117.0  \n",
      "2  Boston University         NaN  \n",
      "3      Georgia State   1148640.0  \n",
      "4                NaN   5000000.0  \n",
      "5                NaN  12000000.0  \n",
      "6                LSU   1170960.0  \n",
      "7            Gonzaga   2165160.0  \n",
      "8         Louisville   1824360.0  \n",
      "9     Oklahoma State   3431040.0  \n"
     ]
    }
   ],
   "source": [
    "# Making data frame from the csv file \n",
    "df = pd.read_csv(\"C:/Users/HP/Desktop/data science/Correlation.csv\") \n",
    "\n",
    "# Printing the first 10 rows of the data frame for visualization \n",
    "# print(df[:10]) \n",
    "print(df)"
   ]
  },
  {
   "cell_type": "code",
   "execution_count": 23,
   "metadata": {},
   "outputs": [
    {
     "data": {
      "text/plain": [
       "<matplotlib.axes._subplots.AxesSubplot at 0x1f5a72aa748>"
      ]
     },
     "execution_count": 23,
     "metadata": {},
     "output_type": "execute_result"
    },
    {
     "data": {
      "image/png": "[encoded data removed]",
      "text/plain": [
       "<Figure size 432x288 with 1 Axes>"
      ]
     },
     "metadata": {
      "needs_background": "light"
     },
     "output_type": "display_data"
    }
   ],
   "source": [
    "# plotting the graph of values in the data\n",
    "df.plot(x=\"Salary\", y=[\"Weight\", \"Age\", \"Number\"], kind=\"bar\")  "
   ]
  },
  {
   "cell_type": "markdown",
   "metadata": {},
   "source": [
    "## Calculating Correlation Coefficient"
   ]
  },
  {
   "cell_type": "markdown",
   "metadata": {},
   "source": [
    "### Correlation: It is a statistical method that describes the association between random variables.\n",
    "### There are Three methods of correlation coefficient methods\n",
    "#### 1.Pearson Method\n",
    "#### 2.Kendall Tau Method\n",
    "#### 3.Spearman's Method"
   ]
  },
  {
   "cell_type": "code",
   "execution_count": 24,
   "metadata": {
    "scrolled": true
   },
   "outputs": [
    {
     "name": "stdout",
     "output_type": "stream",
     "text": [
      "          Number       Age    Weight    Salary\n",
      "Number  1.000000  0.140857  0.675359  0.419876\n",
      "Age     0.140857  1.000000  0.344139  0.758230\n",
      "Weight  0.675359  0.344139  1.000000  0.230415\n",
      "Salary  0.419876  0.758230  0.230415  1.000000\n"
     ]
    }
   ],
   "source": [
    "# To find the correlation among \n",
    "# the columns using pearson method \n",
    "d=df.corr(method ='pearson') \n",
    "print(d)"
   ]
  },
  {
   "cell_type": "code",
   "execution_count": 25,
   "metadata": {},
   "outputs": [
    {
     "data": {
      "text/plain": [
       "<matplotlib.axes._subplots.AxesSubplot at 0x1f5a7366c18>"
      ]
     },
     "execution_count": 25,
     "metadata": {},
     "output_type": "execute_result"
    },
    {
     "data": {
      "image/png": "[encoded data removed]",
      "text/plain": [
       "<Figure size 432x288 with 2 Axes>"
      ]
     },
     "metadata": {
      "needs_background": "light"
     },
     "output_type": "display_data"
    }
   ],
   "source": [
    "sns.heatmap(d)                          ## Representing the graph in 2D array using seaborn library"
   ]
  },
  {
   "cell_type": "code",
   "execution_count": 26,
   "metadata": {},
   "outputs": [
    {
     "data": {
      "text/html": [
       "<style  type=\"text/css\" >\n",
       "    #T_a9c74c26_ca3e_11e9_90ba_3c528210452erow0_col0 {\n",
       "            background-color:  #023858;\n",
       "            color:  #f1f1f1;\n",
       "        }    #T_a9c74c26_ca3e_11e9_90ba_3c528210452erow0_col1 {\n",
       "            background-color:  #fff7fb;\n",
       "            color:  #000000;\n",
       "        }    #T_a9c74c26_ca3e_11e9_90ba_3c528210452erow0_col2 {\n",
       "            background-color:  #4c99c5;\n",
       "            color:  #000000;\n",
       "        }    #T_a9c74c26_ca3e_11e9_90ba_3c528210452erow0_col3 {\n",
       "            background-color:  #d1d2e6;\n",
       "            color:  #000000;\n",
       "        }    #T_a9c74c26_ca3e_11e9_90ba_3c528210452erow1_col0 {\n",
       "            background-color:  #fff7fb;\n",
       "            color:  #000000;\n",
       "        }    #T_a9c74c26_ca3e_11e9_90ba_3c528210452erow1_col1 {\n",
       "            background-color:  #023858;\n",
       "            color:  #f1f1f1;\n",
       "        }    #T_a9c74c26_ca3e_11e9_90ba_3c528210452erow1_col2 {\n",
       "            background-color:  #e7e3f0;\n",
       "            color:  #000000;\n",
       "        }    #T_a9c74c26_ca3e_11e9_90ba_3c528210452erow1_col3 {\n",
       "            background-color:  #1e80b8;\n",
       "            color:  #000000;\n",
       "        }    #T_a9c74c26_ca3e_11e9_90ba_3c528210452erow2_col0 {\n",
       "            background-color:  #3790c0;\n",
       "            color:  #000000;\n",
       "        }    #T_a9c74c26_ca3e_11e9_90ba_3c528210452erow2_col1 {\n",
       "            background-color:  #d3d4e7;\n",
       "            color:  #000000;\n",
       "        }    #T_a9c74c26_ca3e_11e9_90ba_3c528210452erow2_col2 {\n",
       "            background-color:  #023858;\n",
       "            color:  #f1f1f1;\n",
       "        }    #T_a9c74c26_ca3e_11e9_90ba_3c528210452erow2_col3 {\n",
       "            background-color:  #fff7fb;\n",
       "            color:  #000000;\n",
       "        }    #T_a9c74c26_ca3e_11e9_90ba_3c528210452erow3_col0 {\n",
       "            background-color:  #b7c5df;\n",
       "            color:  #000000;\n",
       "        }    #T_a9c74c26_ca3e_11e9_90ba_3c528210452erow3_col1 {\n",
       "            background-color:  #1278b4;\n",
       "            color:  #f1f1f1;\n",
       "        }    #T_a9c74c26_ca3e_11e9_90ba_3c528210452erow3_col2 {\n",
       "            background-color:  #fff7fb;\n",
       "            color:  #000000;\n",
       "        }    #T_a9c74c26_ca3e_11e9_90ba_3c528210452erow3_col3 {\n",
       "            background-color:  #023858;\n",
       "            color:  #f1f1f1;\n",
       "        }</style><table id=\"T_a9c74c26_ca3e_11e9_90ba_3c528210452e\" ><thead>    <tr>        <th class=\"blank level0\" ></th>        <th class=\"col_heading level0 col0\" >Number</th>        <th class=\"col_heading level0 col1\" >Age</th>        <th class=\"col_heading level0 col2\" >Weight</th>        <th class=\"col_heading level0 col3\" >Salary</th>    </tr></thead><tbody>\n",
       "                <tr>\n",
       "                        <th id=\"T_a9c74c26_ca3e_11e9_90ba_3c528210452elevel0_row0\" class=\"row_heading level0 row0\" >Number</th>\n",
       "                        <td id=\"T_a9c74c26_ca3e_11e9_90ba_3c528210452erow0_col0\" class=\"data row0 col0\" >1</td>\n",
       "                        <td id=\"T_a9c74c26_ca3e_11e9_90ba_3c528210452erow0_col1\" class=\"data row0 col1\" >0.140857</td>\n",
       "                        <td id=\"T_a9c74c26_ca3e_11e9_90ba_3c528210452erow0_col2\" class=\"data row0 col2\" >0.675359</td>\n",
       "                        <td id=\"T_a9c74c26_ca3e_11e9_90ba_3c528210452erow0_col3\" class=\"data row0 col3\" >0.419876</td>\n",
       "            </tr>\n",
       "            <tr>\n",
       "                        <th id=\"T_a9c74c26_ca3e_11e9_90ba_3c528210452elevel0_row1\" class=\"row_heading level0 row1\" >Age</th>\n",
       "                        <td id=\"T_a9c74c26_ca3e_11e9_90ba_3c528210452erow1_col0\" class=\"data row1 col0\" >0.140857</td>\n",
       "                        <td id=\"T_a9c74c26_ca3e_11e9_90ba_3c528210452erow1_col1\" class=\"data row1 col1\" >1</td>\n",
       "                        <td id=\"T_a9c74c26_ca3e_11e9_90ba_3c528210452erow1_col2\" class=\"data row1 col2\" >0.344139</td>\n",
       "                        <td id=\"T_a9c74c26_ca3e_11e9_90ba_3c528210452erow1_col3\" class=\"data row1 col3\" >0.75823</td>\n",
       "            </tr>\n",
       "            <tr>\n",
       "                        <th id=\"T_a9c74c26_ca3e_11e9_90ba_3c528210452elevel0_row2\" class=\"row_heading level0 row2\" >Weight</th>\n",
       "                        <td id=\"T_a9c74c26_ca3e_11e9_90ba_3c528210452erow2_col0\" class=\"data row2 col0\" >0.675359</td>\n",
       "                        <td id=\"T_a9c74c26_ca3e_11e9_90ba_3c528210452erow2_col1\" class=\"data row2 col1\" >0.344139</td>\n",
       "                        <td id=\"T_a9c74c26_ca3e_11e9_90ba_3c528210452erow2_col2\" class=\"data row2 col2\" >1</td>\n",
       "                        <td id=\"T_a9c74c26_ca3e_11e9_90ba_3c528210452erow2_col3\" class=\"data row2 col3\" >0.230415</td>\n",
       "            </tr>\n",
       "            <tr>\n",
       "                        <th id=\"T_a9c74c26_ca3e_11e9_90ba_3c528210452elevel0_row3\" class=\"row_heading level0 row3\" >Salary</th>\n",
       "                        <td id=\"T_a9c74c26_ca3e_11e9_90ba_3c528210452erow3_col0\" class=\"data row3 col0\" >0.419876</td>\n",
       "                        <td id=\"T_a9c74c26_ca3e_11e9_90ba_3c528210452erow3_col1\" class=\"data row3 col1\" >0.75823</td>\n",
       "                        <td id=\"T_a9c74c26_ca3e_11e9_90ba_3c528210452erow3_col2\" class=\"data row3 col2\" >0.230415</td>\n",
       "                        <td id=\"T_a9c74c26_ca3e_11e9_90ba_3c528210452erow3_col3\" class=\"data row3 col3\" >1</td>\n",
       "            </tr>\n",
       "    </tbody></table>"
      ],
      "text/plain": [
       "<pandas.io.formats.style.Styler at 0x1f5a73f0be0>"
      ]
     },
     "execution_count": 26,
     "metadata": {},
     "output_type": "execute_result"
    }
   ],
   "source": [
    "d.style.background_gradient()           ## Colouring the background of graph according to data of columns"
   ]
  },
  {
   "cell_type": "code",
   "execution_count": 27,
   "metadata": {},
   "outputs": [
    {
     "data": {
      "text/plain": [
       "<matplotlib.axes._subplots.AxesSubplot at 0x1f5a73fdc50>"
      ]
     },
     "execution_count": 27,
     "metadata": {},
     "output_type": "execute_result"
    },
    {
     "data": {
      "image/png": "[encoded data removed]",
      "text/plain": [
       "<Figure size 432x288 with 1 Axes>"
      ]
     },
     "metadata": {
      "needs_background": "light"
     },
     "output_type": "display_data"
    }
   ],
   "source": [
    "d.plot(style=['o','rx'])    ## Plotting the graph of the data and using style for different varities in plotting in matplotlib"
   ]
  },
  {
   "cell_type": "markdown",
   "metadata": {},
   "source": [
    "#### The output dataframe, row variable correlation with the column variable is the value of the cell.  As mentioned earlier, that the correlation of a variable with itself is 1. For that reason all the diagonal values are 1.00\n",
    " \n",
    " "
   ]
  },
  {
   "cell_type": "code",
   "execution_count": 28,
   "metadata": {},
   "outputs": [
    {
     "name": "stdout",
     "output_type": "stream",
     "text": [
      "          Number       Age    Weight    Salary\n",
      "Number  1.000000 -0.048365  0.629253  0.000000\n",
      "Age    -0.048365  1.000000  0.220102  0.649934\n",
      "Weight  0.629253  0.220102  1.000000  0.253546\n",
      "Salary  0.000000  0.649934  0.253546  1.000000\n"
     ]
    }
   ],
   "source": [
    "# the columns using kendall method \n",
    "e=df.corr(method ='kendall') \n",
    "print(e)"
   ]
  },
  {
   "cell_type": "code",
   "execution_count": 29,
   "metadata": {},
   "outputs": [
    {
     "data": {
      "text/plain": [
       "<matplotlib.axes._subplots.AxesSubplot at 0x1f5a748e6d8>"
      ]
     },
     "execution_count": 29,
     "metadata": {},
     "output_type": "execute_result"
    },
    {
     "data": {
      "image/png": "[encoded data removed]",
      "text/plain": [
       "<Figure size 432x288 with 2 Axes>"
      ]
     },
     "metadata": {
      "needs_background": "light"
     },
     "output_type": "display_data"
    }
   ],
   "source": [
    "sns.heatmap(e)                        ##  Representing the graph in 2D array using seaborn library"
   ]
  },
  {
   "cell_type": "code",
   "execution_count": 30,
   "metadata": {},
   "outputs": [
    {
     "data": {
      "text/html": [
       "<style  type=\"text/css\" >\n",
       "    #T_aecdc08c_ca3e_11e9_ae9b_3c528210452erow0_col0 {\n",
       "            background-color:  #023858;\n",
       "            color:  #f1f1f1;\n",
       "        }    #T_aecdc08c_ca3e_11e9_ae9b_3c528210452erow0_col1 {\n",
       "            background-color:  #fff7fb;\n",
       "            color:  #000000;\n",
       "        }    #T_aecdc08c_ca3e_11e9_ae9b_3c528210452erow0_col2 {\n",
       "            background-color:  #67a4cc;\n",
       "            color:  #000000;\n",
       "        }    #T_aecdc08c_ca3e_11e9_ae9b_3c528210452erow0_col3 {\n",
       "            background-color:  #fff7fb;\n",
       "            color:  #000000;\n",
       "        }    #T_aecdc08c_ca3e_11e9_ae9b_3c528210452erow1_col0 {\n",
       "            background-color:  #fff7fb;\n",
       "            color:  #000000;\n",
       "        }    #T_aecdc08c_ca3e_11e9_ae9b_3c528210452erow1_col1 {\n",
       "            background-color:  #023858;\n",
       "            color:  #f1f1f1;\n",
       "        }    #T_aecdc08c_ca3e_11e9_ae9b_3c528210452erow1_col2 {\n",
       "            background-color:  #fff7fb;\n",
       "            color:  #000000;\n",
       "        }    #T_aecdc08c_ca3e_11e9_ae9b_3c528210452erow1_col3 {\n",
       "            background-color:  #2c89bd;\n",
       "            color:  #000000;\n",
       "        }    #T_aecdc08c_ca3e_11e9_ae9b_3c528210452erow2_col0 {\n",
       "            background-color:  #2d8abd;\n",
       "            color:  #000000;\n",
       "        }    #T_aecdc08c_ca3e_11e9_ae9b_3c528210452erow2_col1 {\n",
       "            background-color:  #ced0e6;\n",
       "            color:  #000000;\n",
       "        }    #T_aecdc08c_ca3e_11e9_ae9b_3c528210452erow2_col2 {\n",
       "            background-color:  #023858;\n",
       "            color:  #f1f1f1;\n",
       "        }    #T_aecdc08c_ca3e_11e9_ae9b_3c528210452erow2_col3 {\n",
       "            background-color:  #d0d1e6;\n",
       "            color:  #000000;\n",
       "        }    #T_aecdc08c_ca3e_11e9_ae9b_3c528210452erow3_col0 {\n",
       "            background-color:  #f8f1f8;\n",
       "            color:  #000000;\n",
       "        }    #T_aecdc08c_ca3e_11e9_ae9b_3c528210452erow3_col1 {\n",
       "            background-color:  #2685bb;\n",
       "            color:  #000000;\n",
       "        }    #T_aecdc08c_ca3e_11e9_ae9b_3c528210452erow3_col2 {\n",
       "            background-color:  #f9f2f8;\n",
       "            color:  #000000;\n",
       "        }    #T_aecdc08c_ca3e_11e9_ae9b_3c528210452erow3_col3 {\n",
       "            background-color:  #023858;\n",
       "            color:  #f1f1f1;\n",
       "        }</style><table id=\"T_aecdc08c_ca3e_11e9_ae9b_3c528210452e\" ><thead>    <tr>        <th class=\"blank level0\" ></th>        <th class=\"col_heading level0 col0\" >Number</th>        <th class=\"col_heading level0 col1\" >Age</th>        <th class=\"col_heading level0 col2\" >Weight</th>        <th class=\"col_heading level0 col3\" >Salary</th>    </tr></thead><tbody>\n",
       "                <tr>\n",
       "                        <th id=\"T_aecdc08c_ca3e_11e9_ae9b_3c528210452elevel0_row0\" class=\"row_heading level0 row0\" >Number</th>\n",
       "                        <td id=\"T_aecdc08c_ca3e_11e9_ae9b_3c528210452erow0_col0\" class=\"data row0 col0\" >1</td>\n",
       "                        <td id=\"T_aecdc08c_ca3e_11e9_ae9b_3c528210452erow0_col1\" class=\"data row0 col1\" >-0.0483651</td>\n",
       "                        <td id=\"T_aecdc08c_ca3e_11e9_ae9b_3c528210452erow0_col2\" class=\"data row0 col2\" >0.629253</td>\n",
       "                        <td id=\"T_aecdc08c_ca3e_11e9_ae9b_3c528210452erow0_col3\" class=\"data row0 col3\" >0</td>\n",
       "            </tr>\n",
       "            <tr>\n",
       "                        <th id=\"T_aecdc08c_ca3e_11e9_ae9b_3c528210452elevel0_row1\" class=\"row_heading level0 row1\" >Age</th>\n",
       "                        <td id=\"T_aecdc08c_ca3e_11e9_ae9b_3c528210452erow1_col0\" class=\"data row1 col0\" >-0.0483651</td>\n",
       "                        <td id=\"T_aecdc08c_ca3e_11e9_ae9b_3c528210452erow1_col1\" class=\"data row1 col1\" >1</td>\n",
       "                        <td id=\"T_aecdc08c_ca3e_11e9_ae9b_3c528210452erow1_col2\" class=\"data row1 col2\" >0.220102</td>\n",
       "                        <td id=\"T_aecdc08c_ca3e_11e9_ae9b_3c528210452erow1_col3\" class=\"data row1 col3\" >0.649934</td>\n",
       "            </tr>\n",
       "            <tr>\n",
       "                        <th id=\"T_aecdc08c_ca3e_11e9_ae9b_3c528210452elevel0_row2\" class=\"row_heading level0 row2\" >Weight</th>\n",
       "                        <td id=\"T_aecdc08c_ca3e_11e9_ae9b_3c528210452erow2_col0\" class=\"data row2 col0\" >0.629253</td>\n",
       "                        <td id=\"T_aecdc08c_ca3e_11e9_ae9b_3c528210452erow2_col1\" class=\"data row2 col1\" >0.220102</td>\n",
       "                        <td id=\"T_aecdc08c_ca3e_11e9_ae9b_3c528210452erow2_col2\" class=\"data row2 col2\" >1</td>\n",
       "                        <td id=\"T_aecdc08c_ca3e_11e9_ae9b_3c528210452erow2_col3\" class=\"data row2 col3\" >0.253546</td>\n",
       "            </tr>\n",
       "            <tr>\n",
       "                        <th id=\"T_aecdc08c_ca3e_11e9_ae9b_3c528210452elevel0_row3\" class=\"row_heading level0 row3\" >Salary</th>\n",
       "                        <td id=\"T_aecdc08c_ca3e_11e9_ae9b_3c528210452erow3_col0\" class=\"data row3 col0\" >0</td>\n",
       "                        <td id=\"T_aecdc08c_ca3e_11e9_ae9b_3c528210452erow3_col1\" class=\"data row3 col1\" >0.649934</td>\n",
       "                        <td id=\"T_aecdc08c_ca3e_11e9_ae9b_3c528210452erow3_col2\" class=\"data row3 col2\" >0.253546</td>\n",
       "                        <td id=\"T_aecdc08c_ca3e_11e9_ae9b_3c528210452erow3_col3\" class=\"data row3 col3\" >1</td>\n",
       "            </tr>\n",
       "    </tbody></table>"
      ],
      "text/plain": [
       "<pandas.io.formats.style.Styler at 0x1f5a58bf748>"
      ]
     },
     "execution_count": 30,
     "metadata": {},
     "output_type": "execute_result"
    }
   ],
   "source": [
    "e.style.background_gradient()         ##  Colouring the background of graph according to data of columns"
   ]
  },
  {
   "cell_type": "code",
   "execution_count": 31,
   "metadata": {},
   "outputs": [
    {
     "data": {
      "text/plain": [
       "<matplotlib.axes._subplots.AxesSubplot at 0x1f5a7034630>"
      ]
     },
     "execution_count": 31,
     "metadata": {},
     "output_type": "execute_result"
    },
    {
     "data": {
      "image/png": "[encoded data removed]",
      "text/plain": [
       "<Figure size 432x288 with 1 Axes>"
      ]
     },
     "metadata": {
      "needs_background": "light"
     },
     "output_type": "display_data"
    }
   ],
   "source": [
    "e.plot(style=['o','rx'])      ## Plotting the graph of the data and using style for different varities in plotting in matplotlib"
   ]
  },
  {
   "cell_type": "markdown",
   "metadata": {},
   "source": [
    "#### The output dataframe can be interpreted as for any cell, row variable correlation with the column variable is the value of the cell. As mentioned earlier, that the correlation of a variable with itself is 1. For that reason all the diagonal values are 1.00.\n",
    "\n",
    "\n"
   ]
  },
  {
   "cell_type": "code",
   "execution_count": 32,
   "metadata": {},
   "outputs": [
    {
     "name": "stdout",
     "output_type": "stream",
     "text": [
      "          Number       Age    Weight    Salary\n",
      "Number  1.000000 -0.037398  0.796356  0.100000\n",
      "Age    -0.037398  1.000000  0.300094  0.788477\n",
      "Weight  0.796356  0.300094  1.000000  0.259416\n",
      "Salary  0.100000  0.788477  0.259416  1.000000\n"
     ]
    }
   ],
   "source": [
    "# the columns using spearman method \n",
    "f=df.corr(method ='spearman') \n",
    "print(f)"
   ]
  },
  {
   "cell_type": "code",
   "execution_count": 33,
   "metadata": {},
   "outputs": [
    {
     "data": {
      "text/plain": [
       "<matplotlib.axes._subplots.AxesSubplot at 0x1f5a7001ba8>"
      ]
     },
     "execution_count": 33,
     "metadata": {},
     "output_type": "execute_result"
    },
    {
     "data": {
      "image/png": "[encoded data removed]",
      "text/plain": [
       "<Figure size 432x288 with 2 Axes>"
      ]
     },
     "metadata": {
      "needs_background": "light"
     },
     "output_type": "display_data"
    }
   ],
   "source": [
    "sns.heatmap(f)                   ## Representing the graph in 2D array using seaborn library"
   ]
  },
  {
   "cell_type": "code",
   "execution_count": 34,
   "metadata": {},
   "outputs": [
    {
     "data": {
      "text/html": [
       "<style  type=\"text/css\" >\n",
       "    #T_b548a35c_ca3e_11e9_842e_3c528210452erow0_col0 {\n",
       "            background-color:  #023858;\n",
       "            color:  #f1f1f1;\n",
       "        }    #T_b548a35c_ca3e_11e9_842e_3c528210452erow0_col1 {\n",
       "            background-color:  #fff7fb;\n",
       "            color:  #000000;\n",
       "        }    #T_b548a35c_ca3e_11e9_842e_3c528210452erow0_col2 {\n",
       "            background-color:  #0f76b3;\n",
       "            color:  #f1f1f1;\n",
       "        }    #T_b548a35c_ca3e_11e9_842e_3c528210452erow0_col3 {\n",
       "            background-color:  #fff7fb;\n",
       "            color:  #000000;\n",
       "        }    #T_b548a35c_ca3e_11e9_842e_3c528210452erow1_col0 {\n",
       "            background-color:  #fff7fb;\n",
       "            color:  #000000;\n",
       "        }    #T_b548a35c_ca3e_11e9_842e_3c528210452erow1_col1 {\n",
       "            background-color:  #023858;\n",
       "            color:  #f1f1f1;\n",
       "        }    #T_b548a35c_ca3e_11e9_842e_3c528210452erow1_col2 {\n",
       "            background-color:  #f7f0f7;\n",
       "            color:  #000000;\n",
       "        }    #T_b548a35c_ca3e_11e9_842e_3c528210452erow1_col3 {\n",
       "            background-color:  #056dac;\n",
       "            color:  #f1f1f1;\n",
       "        }    #T_b548a35c_ca3e_11e9_842e_3c528210452erow2_col0 {\n",
       "            background-color:  #0567a1;\n",
       "            color:  #f1f1f1;\n",
       "        }    #T_b548a35c_ca3e_11e9_842e_3c528210452erow2_col1 {\n",
       "            background-color:  #b7c5df;\n",
       "            color:  #000000;\n",
       "        }    #T_b548a35c_ca3e_11e9_842e_3c528210452erow2_col2 {\n",
       "            background-color:  #023858;\n",
       "            color:  #f1f1f1;\n",
       "        }    #T_b548a35c_ca3e_11e9_842e_3c528210452erow2_col3 {\n",
       "            background-color:  #e0deed;\n",
       "            color:  #000000;\n",
       "        }    #T_b548a35c_ca3e_11e9_842e_3c528210452erow3_col0 {\n",
       "            background-color:  #ebe6f2;\n",
       "            color:  #000000;\n",
       "        }    #T_b548a35c_ca3e_11e9_842e_3c528210452erow3_col1 {\n",
       "            background-color:  #0568a3;\n",
       "            color:  #f1f1f1;\n",
       "        }    #T_b548a35c_ca3e_11e9_842e_3c528210452erow3_col2 {\n",
       "            background-color:  #fff7fb;\n",
       "            color:  #000000;\n",
       "        }    #T_b548a35c_ca3e_11e9_842e_3c528210452erow3_col3 {\n",
       "            background-color:  #023858;\n",
       "            color:  #f1f1f1;\n",
       "        }</style><table id=\"T_b548a35c_ca3e_11e9_842e_3c528210452e\" ><thead>    <tr>        <th class=\"blank level0\" ></th>        <th class=\"col_heading level0 col0\" >Number</th>        <th class=\"col_heading level0 col1\" >Age</th>        <th class=\"col_heading level0 col2\" >Weight</th>        <th class=\"col_heading level0 col3\" >Salary</th>    </tr></thead><tbody>\n",
       "                <tr>\n",
       "                        <th id=\"T_b548a35c_ca3e_11e9_842e_3c528210452elevel0_row0\" class=\"row_heading level0 row0\" >Number</th>\n",
       "                        <td id=\"T_b548a35c_ca3e_11e9_842e_3c528210452erow0_col0\" class=\"data row0 col0\" >1</td>\n",
       "                        <td id=\"T_b548a35c_ca3e_11e9_842e_3c528210452erow0_col1\" class=\"data row0 col1\" >-0.0373979</td>\n",
       "                        <td id=\"T_b548a35c_ca3e_11e9_842e_3c528210452erow0_col2\" class=\"data row0 col2\" >0.796356</td>\n",
       "                        <td id=\"T_b548a35c_ca3e_11e9_842e_3c528210452erow0_col3\" class=\"data row0 col3\" >0.1</td>\n",
       "            </tr>\n",
       "            <tr>\n",
       "                        <th id=\"T_b548a35c_ca3e_11e9_842e_3c528210452elevel0_row1\" class=\"row_heading level0 row1\" >Age</th>\n",
       "                        <td id=\"T_b548a35c_ca3e_11e9_842e_3c528210452erow1_col0\" class=\"data row1 col0\" >-0.0373979</td>\n",
       "                        <td id=\"T_b548a35c_ca3e_11e9_842e_3c528210452erow1_col1\" class=\"data row1 col1\" >1</td>\n",
       "                        <td id=\"T_b548a35c_ca3e_11e9_842e_3c528210452erow1_col2\" class=\"data row1 col2\" >0.300094</td>\n",
       "                        <td id=\"T_b548a35c_ca3e_11e9_842e_3c528210452erow1_col3\" class=\"data row1 col3\" >0.788477</td>\n",
       "            </tr>\n",
       "            <tr>\n",
       "                        <th id=\"T_b548a35c_ca3e_11e9_842e_3c528210452elevel0_row2\" class=\"row_heading level0 row2\" >Weight</th>\n",
       "                        <td id=\"T_b548a35c_ca3e_11e9_842e_3c528210452erow2_col0\" class=\"data row2 col0\" >0.796356</td>\n",
       "                        <td id=\"T_b548a35c_ca3e_11e9_842e_3c528210452erow2_col1\" class=\"data row2 col1\" >0.300094</td>\n",
       "                        <td id=\"T_b548a35c_ca3e_11e9_842e_3c528210452erow2_col2\" class=\"data row2 col2\" >1</td>\n",
       "                        <td id=\"T_b548a35c_ca3e_11e9_842e_3c528210452erow2_col3\" class=\"data row2 col3\" >0.259416</td>\n",
       "            </tr>\n",
       "            <tr>\n",
       "                        <th id=\"T_b548a35c_ca3e_11e9_842e_3c528210452elevel0_row3\" class=\"row_heading level0 row3\" >Salary</th>\n",
       "                        <td id=\"T_b548a35c_ca3e_11e9_842e_3c528210452erow3_col0\" class=\"data row3 col0\" >0.1</td>\n",
       "                        <td id=\"T_b548a35c_ca3e_11e9_842e_3c528210452erow3_col1\" class=\"data row3 col1\" >0.788477</td>\n",
       "                        <td id=\"T_b548a35c_ca3e_11e9_842e_3c528210452erow3_col2\" class=\"data row3 col2\" >0.259416</td>\n",
       "                        <td id=\"T_b548a35c_ca3e_11e9_842e_3c528210452erow3_col3\" class=\"data row3 col3\" >1</td>\n",
       "            </tr>\n",
       "    </tbody></table>"
      ],
      "text/plain": [
       "<pandas.io.formats.style.Styler at 0x1f5a74d7e48>"
      ]
     },
     "execution_count": 34,
     "metadata": {},
     "output_type": "execute_result"
    }
   ],
   "source": [
    "f.style.background_gradient()    ## Colouring the background of graph according to data of columns"
   ]
  },
  {
   "cell_type": "code",
   "execution_count": 35,
   "metadata": {},
   "outputs": [
    {
     "data": {
      "text/plain": [
       "<matplotlib.axes._subplots.AxesSubplot at 0x1f5a750a278>"
      ]
     },
     "execution_count": 35,
     "metadata": {},
     "output_type": "execute_result"
    },
    {
     "data": {
      "image/png": "[encoded data removed]",
      "text/plain": [
       "<Figure size 432x288 with 1 Axes>"
      ]
     },
     "metadata": {
      "needs_background": "light"
     },
     "output_type": "display_data"
    }
   ],
   "source": [
    "f.plot(style=['o','rx'])  ## Plotting the graph of the data and using style for different varities in plotting in matplotlib"
   ]
  },
  {
   "cell_type": "markdown",
   "metadata": {},
   "source": [
    "#### The output dataframe, row variable correlation with the column variable is the value of the cell.  As mentioned earlier, that the correlation of a variable with itself is 1. For that reason all the diagonal values are 1.00\n",
    " "
   ]
  },
  {
   "cell_type": "markdown",
   "metadata": {},
   "source": [
    "## Summary:\n",
    "\n",
    "### * Seaborn aims to make visualization a central part of exploring and understanding data. Its dataset-oriented plotting functions operate on dataframes and arrays containing whole datasets and internally perform the necessary semantic mapping and statistical aggregation to produce informative plots.\n",
    "### * Plotting the graph of mutliple columns in data using matplotlb is df.plot(x=\"column1\", y=[\"column2\", \"column3\", \"Column4\"], kind=\"bar or plot or scatter \").\n",
    "### * dataframe=df.corr(method ='pearson or spearman or kendall') used for calculaing the correlation of different methods coefficient.\n",
    "### * sns.heatmap(dataframe) is for representing the graph in 2D array using seaborn library.\n",
    "### * DataFrame.style.background_gradient(cmap='PuBu', low=0, high=0, axis=0, subset=None) is to Color the background in a gradient according to the data in each column (optionally row) requires matplotlib.\n",
    "### * f.plot(style=['o','rx']) is for plotting the graph of the data and using style for different varities in plotting in matplotlib."
   ]
  }
 ],
 "metadata": {
  "kernelspec": {
   "display_name": "Python 3",
   "language": "python",
   "name": "python3"
  },
  "language_info": {
   "codemirror_mode": {
    "name": "ipython",
    "version": 3
   },
   "file_extension": ".py",
   "mimetype": "text/x-python",
   "name": "python",
   "nbconvert_exporter": "python",
   "pygments_lexer": "ipython3",
   "version": "3.7.3"
  }
 },
 "nbformat": 4,
 "nbformat_minor": 2
}
